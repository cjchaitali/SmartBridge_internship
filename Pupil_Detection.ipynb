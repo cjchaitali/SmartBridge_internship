{
 "cells": [
  {
   "cell_type": "markdown",
   "metadata": {},
   "source": [
    "# Real time Pupil Detection System"
   ]
  },
  {
   "cell_type": "code",
   "execution_count": 1,
   "metadata": {
    "scrolled": true
   },
   "outputs": [
    {
     "name": "stdout",
     "output_type": "stream",
     "text": [
      "Collecting pytest-shutil\n",
      "  Downloading pytest_shutil-1.7.0-py2.py3-none-any.whl (15 kB)\n",
      "Requirement already satisfied: six in c:\\users\\admin\\anaconda3\\lib\\site-packages (from pytest-shutil) (1.14.0)\n",
      "Requirement already satisfied: contextlib2 in c:\\users\\admin\\anaconda3\\lib\\site-packages (from pytest-shutil) (0.6.0.post1)\n",
      "Requirement already satisfied: termcolor in c:\\users\\admin\\anaconda3\\lib\\site-packages (from pytest-shutil) (1.1.0)\n",
      "Collecting path.py\n",
      "  Downloading path.py-12.4.0-py3-none-any.whl (2.3 kB)\n",
      "Collecting execnet\n",
      "  Downloading execnet-1.7.1-py2.py3-none-any.whl (39 kB)\n",
      "Requirement already satisfied: pytest in c:\\users\\admin\\anaconda3\\lib\\site-packages (from pytest-shutil) (5.3.5)\n",
      "Requirement already satisfied: mock in c:\\users\\admin\\anaconda3\\lib\\site-packages (from pytest-shutil) (4.0.1)\n",
      "Requirement already satisfied: path<13.2 in c:\\users\\admin\\anaconda3\\lib\\site-packages (from path.py->pytest-shutil) (13.1.0)\n",
      "Collecting apipkg>=1.4\n",
      "  Downloading apipkg-1.5-py2.py3-none-any.whl (4.9 kB)\n",
      "Requirement already satisfied: py>=1.5.0 in c:\\users\\admin\\anaconda3\\lib\\site-packages (from pytest->pytest-shutil) (1.8.1)\n",
      "Requirement already satisfied: packaging in c:\\users\\admin\\anaconda3\\lib\\site-packages (from pytest->pytest-shutil) (20.1)\n",
      "Requirement already satisfied: attrs>=17.4.0 in c:\\users\\admin\\anaconda3\\lib\\site-packages (from pytest->pytest-shutil) (19.3.0)\n",
      "Requirement already satisfied: more-itertools>=4.0.0 in c:\\users\\admin\\anaconda3\\lib\\site-packages (from pytest->pytest-shutil) (8.2.0)\n",
      "Requirement already satisfied: pluggy<1.0,>=0.12 in c:\\users\\admin\\anaconda3\\lib\\site-packages (from pytest->pytest-shutil) (0.13.1)\n",
      "Requirement already satisfied: wcwidth in c:\\users\\admin\\anaconda3\\lib\\site-packages (from pytest->pytest-shutil) (0.1.8)\n",
      "Requirement already satisfied: importlib-metadata>=0.12 in c:\\users\\admin\\anaconda3\\lib\\site-packages (from pytest->pytest-shutil) (1.5.0)\n",
      "Requirement already satisfied: atomicwrites>=1.0 in c:\\users\\admin\\anaconda3\\lib\\site-packages (from pytest->pytest-shutil) (1.3.0)\n",
      "Requirement already satisfied: colorama in c:\\users\\admin\\anaconda3\\lib\\site-packages (from pytest->pytest-shutil) (0.4.3)\n",
      "Requirement already satisfied: pyparsing>=2.0.2 in c:\\users\\admin\\anaconda3\\lib\\site-packages (from packaging->pytest->pytest-shutil) (2.4.6)\n",
      "Requirement already satisfied: zipp>=0.5 in c:\\users\\admin\\anaconda3\\lib\\site-packages (from importlib-metadata>=0.12->pytest->pytest-shutil) (2.2.0)\n",
      "Installing collected packages: path.py, apipkg, execnet, pytest-shutil\n",
      "Successfully installed apipkg-1.5 execnet-1.7.1 path.py-12.4.0 pytest-shutil-1.7.0\n",
      "Note: you may need to restart the kernel to use updated packages.\n"
     ]
    }
   ],
   "source": [
    "pip install pytest-shutil"
   ]
  },
  {
   "cell_type": "code",
   "execution_count": 3,
   "metadata": {},
   "outputs": [
    {
     "name": "stdout",
     "output_type": "stream",
     "text": [
      "Requirement already satisfied: pytest-shutil in c:\\users\\admin\\anaconda3\\lib\\site-packages (1.7.0)\n",
      "Requirement already satisfied: path.py in c:\\users\\admin\\anaconda3\\lib\\site-packages (from pytest-shutil) (12.4.0)\n",
      "Requirement already satisfied: termcolor in c:\\users\\admin\\anaconda3\\lib\\site-packages (from pytest-shutil) (1.1.0)\n",
      "Requirement already satisfied: contextlib2 in c:\\users\\admin\\anaconda3\\lib\\site-packages (from pytest-shutil) (0.6.0.post1)\n",
      "Requirement already satisfied: pytest in c:\\users\\admin\\anaconda3\\lib\\site-packages (from pytest-shutil) (5.3.5)\n",
      "Requirement already satisfied: six in c:\\users\\admin\\anaconda3\\lib\\site-packages (from pytest-shutil) (1.14.0)\n",
      "Requirement already satisfied: mock in c:\\users\\admin\\anaconda3\\lib\\site-packages (from pytest-shutil) (4.0.1)\n",
      "Requirement already satisfied: execnet in c:\\users\\admin\\anaconda3\\lib\\site-packages (from pytest-shutil) (1.7.1)\n",
      "Requirement already satisfied: path<13.2 in c:\\users\\admin\\anaconda3\\lib\\site-packages (from path.py->pytest-shutil) (13.1.0)\n",
      "Requirement already satisfied: py>=1.5.0 in c:\\users\\admin\\anaconda3\\lib\\site-packages (from pytest->pytest-shutil) (1.8.1)\n",
      "Requirement already satisfied: packaging in c:\\users\\admin\\anaconda3\\lib\\site-packages (from pytest->pytest-shutil) (20.1)\n",
      "Requirement already satisfied: attrs>=17.4.0 in c:\\users\\admin\\anaconda3\\lib\\site-packages (from pytest->pytest-shutil) (19.3.0)\n",
      "Requirement already satisfied: more-itertools>=4.0.0 in c:\\users\\admin\\anaconda3\\lib\\site-packages (from pytest->pytest-shutil) (8.2.0)\n",
      "Requirement already satisfied: pluggy<1.0,>=0.12 in c:\\users\\admin\\anaconda3\\lib\\site-packages (from pytest->pytest-shutil) (0.13.1)\n",
      "Requirement already satisfied: wcwidth in c:\\users\\admin\\anaconda3\\lib\\site-packages (from pytest->pytest-shutil) (0.1.8)\n",
      "Requirement already satisfied: importlib-metadata>=0.12 in c:\\users\\admin\\anaconda3\\lib\\site-packages (from pytest->pytest-shutil) (1.5.0)\n",
      "Requirement already satisfied: atomicwrites>=1.0 in c:\\users\\admin\\anaconda3\\lib\\site-packages (from pytest->pytest-shutil) (1.3.0)\n",
      "Requirement already satisfied: colorama in c:\\users\\admin\\anaconda3\\lib\\site-packages (from pytest->pytest-shutil) (0.4.3)\n",
      "Requirement already satisfied: apipkg>=1.4 in c:\\users\\admin\\anaconda3\\lib\\site-packages (from execnet->pytest-shutil) (1.5)\n",
      "Requirement already satisfied: pyparsing>=2.0.2 in c:\\users\\admin\\anaconda3\\lib\\site-packages (from packaging->pytest->pytest-shutil) (2.4.6)\n",
      "Requirement already satisfied: zipp>=0.5 in c:\\users\\admin\\anaconda3\\lib\\site-packages (from importlib-metadata>=0.12->pytest->pytest-shutil) (2.2.0)\n",
      "Note: you may need to restart the kernel to use updated packages.\n"
     ]
    }
   ],
   "source": [
    "pip install pytest-shutil"
   ]
  },
  {
   "cell_type": "code",
   "execution_count": 1,
   "metadata": {},
   "outputs": [
    {
     "name": "stdout",
     "output_type": "stream",
     "text": [
      "Requirement already satisfied: opencv-python in c:\\users\\admin\\anaconda3\\lib\\site-packages (4.2.0.34)\n",
      "Requirement already satisfied: numpy>=1.14.5 in c:\\users\\admin\\anaconda3\\lib\\site-packages (from opencv-python) (1.18.1)\n",
      "Note: you may need to restart the kernel to use updated packages.\n"
     ]
    }
   ],
   "source": [
    "pip install opencv-python"
   ]
  },
  {
   "cell_type": "code",
   "execution_count": 7,
   "metadata": {},
   "outputs": [
    {
     "data": {
      "text/plain": [
       "'4.2.0'"
      ]
     },
     "execution_count": 7,
     "metadata": {},
     "output_type": "execute_result"
    }
   ],
   "source": [
    "cv2.__version__"
   ]
  },
  {
   "cell_type": "code",
   "execution_count": null,
   "metadata": {},
   "outputs": [],
   "source": [
    "pip uninstall opencv-python"
   ]
  },
  {
   "cell_type": "code",
   "execution_count": 1,
   "metadata": {
    "scrolled": true
   },
   "outputs": [
    {
     "name": "stdout",
     "output_type": "stream",
     "text": [
      "Collecting opencv-python==3.4.9.31\n",
      "  Downloading opencv_python-3.4.9.31-cp37-cp37m-win_amd64.whl (31.1 MB)\n",
      "Requirement already satisfied: numpy>=1.14.5 in c:\\users\\admin\\anaconda3\\lib\\site-packages (from opencv-python==3.4.9.31) (1.18.1)\n",
      "Installing collected packages: opencv-python\n",
      "  Attempting uninstall: opencv-python\n",
      "    Found existing installation: opencv-python 4.2.0.34\n",
      "    Uninstalling opencv-python-4.2.0.34:\n",
      "      Successfully uninstalled opencv-python-4.2.0.34\n",
      "Successfully installed opencv-python-3.4.9.31\n",
      "Note: you may need to restart the kernel to use updated packages.\n"
     ]
    }
   ],
   "source": [
    "pip install opencv-python==3.4.9.31"
   ]
  },
  {
   "cell_type": "raw",
   "metadata": {},
   "source": [
    "CV stands for Computer Vision. OpenCV library is used to make the computer to gain a high-level understanding on the digital images/videos. \n",
    "The main idea of computer vision is to automate the tasks that human visual systems can do."
   ]
  },
  {
   "cell_type": "markdown",
   "metadata": {},
   "source": [
    "## Pupil detection using CHT with opencv"
   ]
  },
  {
   "cell_type": "code",
   "execution_count": 2,
   "metadata": {},
   "outputs": [
    {
     "name": "stderr",
     "output_type": "stream",
     "text": [
      "Using TensorFlow backend.\n",
      "C:\\Users\\Admin\\anaconda3\\lib\\site-packages\\tensorflow\\python\\framework\\dtypes.py:516: FutureWarning: Passing (type, 1) or '1type' as a synonym of type is deprecated; in a future version of numpy, it will be understood as (type, (1,)) / '(1,)type'.\n",
      "  _np_qint8 = np.dtype([(\"qint8\", np.int8, 1)])\n",
      "C:\\Users\\Admin\\anaconda3\\lib\\site-packages\\tensorflow\\python\\framework\\dtypes.py:517: FutureWarning: Passing (type, 1) or '1type' as a synonym of type is deprecated; in a future version of numpy, it will be understood as (type, (1,)) / '(1,)type'.\n",
      "  _np_quint8 = np.dtype([(\"quint8\", np.uint8, 1)])\n",
      "C:\\Users\\Admin\\anaconda3\\lib\\site-packages\\tensorflow\\python\\framework\\dtypes.py:518: FutureWarning: Passing (type, 1) or '1type' as a synonym of type is deprecated; in a future version of numpy, it will be understood as (type, (1,)) / '(1,)type'.\n",
      "  _np_qint16 = np.dtype([(\"qint16\", np.int16, 1)])\n",
      "C:\\Users\\Admin\\anaconda3\\lib\\site-packages\\tensorflow\\python\\framework\\dtypes.py:519: FutureWarning: Passing (type, 1) or '1type' as a synonym of type is deprecated; in a future version of numpy, it will be understood as (type, (1,)) / '(1,)type'.\n",
      "  _np_quint16 = np.dtype([(\"quint16\", np.uint16, 1)])\n",
      "C:\\Users\\Admin\\anaconda3\\lib\\site-packages\\tensorflow\\python\\framework\\dtypes.py:520: FutureWarning: Passing (type, 1) or '1type' as a synonym of type is deprecated; in a future version of numpy, it will be understood as (type, (1,)) / '(1,)type'.\n",
      "  _np_qint32 = np.dtype([(\"qint32\", np.int32, 1)])\n",
      "C:\\Users\\Admin\\anaconda3\\lib\\site-packages\\tensorflow\\python\\framework\\dtypes.py:525: FutureWarning: Passing (type, 1) or '1type' as a synonym of type is deprecated; in a future version of numpy, it will be understood as (type, (1,)) / '(1,)type'.\n",
      "  np_resource = np.dtype([(\"resource\", np.ubyte, 1)])\n",
      "C:\\Users\\Admin\\anaconda3\\lib\\site-packages\\tensorboard\\compat\\tensorflow_stub\\dtypes.py:541: FutureWarning: Passing (type, 1) or '1type' as a synonym of type is deprecated; in a future version of numpy, it will be understood as (type, (1,)) / '(1,)type'.\n",
      "  _np_qint8 = np.dtype([(\"qint8\", np.int8, 1)])\n",
      "C:\\Users\\Admin\\anaconda3\\lib\\site-packages\\tensorboard\\compat\\tensorflow_stub\\dtypes.py:542: FutureWarning: Passing (type, 1) or '1type' as a synonym of type is deprecated; in a future version of numpy, it will be understood as (type, (1,)) / '(1,)type'.\n",
      "  _np_quint8 = np.dtype([(\"quint8\", np.uint8, 1)])\n",
      "C:\\Users\\Admin\\anaconda3\\lib\\site-packages\\tensorboard\\compat\\tensorflow_stub\\dtypes.py:543: FutureWarning: Passing (type, 1) or '1type' as a synonym of type is deprecated; in a future version of numpy, it will be understood as (type, (1,)) / '(1,)type'.\n",
      "  _np_qint16 = np.dtype([(\"qint16\", np.int16, 1)])\n",
      "C:\\Users\\Admin\\anaconda3\\lib\\site-packages\\tensorboard\\compat\\tensorflow_stub\\dtypes.py:544: FutureWarning: Passing (type, 1) or '1type' as a synonym of type is deprecated; in a future version of numpy, it will be understood as (type, (1,)) / '(1,)type'.\n",
      "  _np_quint16 = np.dtype([(\"quint16\", np.uint16, 1)])\n",
      "C:\\Users\\Admin\\anaconda3\\lib\\site-packages\\tensorboard\\compat\\tensorflow_stub\\dtypes.py:545: FutureWarning: Passing (type, 1) or '1type' as a synonym of type is deprecated; in a future version of numpy, it will be understood as (type, (1,)) / '(1,)type'.\n",
      "  _np_qint32 = np.dtype([(\"qint32\", np.int32, 1)])\n",
      "C:\\Users\\Admin\\anaconda3\\lib\\site-packages\\tensorboard\\compat\\tensorflow_stub\\dtypes.py:550: FutureWarning: Passing (type, 1) or '1type' as a synonym of type is deprecated; in a future version of numpy, it will be understood as (type, (1,)) / '(1,)type'.\n",
      "  np_resource = np.dtype([(\"resource\", np.ubyte, 1)])\n"
     ]
    }
   ],
   "source": [
    "import cv2\n",
    "import numpy as np\n",
    "import os\n",
    "import shutil\n",
    "from skimage.transform import resize\n",
    "from keras.models import Sequential\n",
    "from keras.models import load_model"
   ]
  },
  {
   "cell_type": "code",
   "execution_count": 6,
   "metadata": {},
   "outputs": [
    {
     "name": "stdout",
     "output_type": "stream",
     "text": [
      "Processing file:  1.jpg\n",
      "----------Processing Done------------\n",
      "Processing file:  10.jpg\n",
      "----------Processing Done------------\n",
      "Processing file:  11.jpg\n",
      "----------Processing Done------------\n",
      "Processing file:  12.jpg\n",
      "----------Processing Done------------\n",
      "Processing file:  13.jpg\n",
      "----------Processing Done------------\n",
      "Processing file:  14.jpg\n",
      "----------Processing Done------------\n",
      "Processing file:  15.jpg\n",
      "----------Processing Done------------\n",
      "Processing file:  16.jpg\n",
      "----------Processing Done------------\n",
      "Processing file:  17.jpg\n",
      "----------Processing Done------------\n",
      "Processing file:  18.jpg\n",
      "----------Processing Done------------\n",
      "Processing file:  19.jpg\n",
      "----------Processing Done------------\n",
      "Processing file:  2.jpg\n",
      "----------Processing Done------------\n",
      "Processing file:  20.jpg\n",
      "----------Processing Done------------\n",
      "Processing file:  21.jpg\n",
      "----------Processing Done------------\n",
      "Processing file:  22.jpg\n",
      "----------Processing Done------------\n",
      "Processing file:  23.jpg\n",
      "----------Processing Done------------\n",
      "Processing file:  24.jpg\n",
      "----------Processing Done------------\n",
      "Processing file:  3.jpg\n",
      "----------Processing Done------------\n",
      "Processing file:  4.jpg\n",
      "----------Processing Done------------\n",
      "Processing file:  5.jpg\n",
      "----------Processing Done------------\n",
      "Processing file:  6.jpg\n",
      "----------Processing Done------------\n",
      "Processing file:  7.jpg\n",
      "----------Processing Done------------\n",
      "Processing file:  8.jpg\n",
      "----------Processing Done------------\n",
      "Processing file:  9.jpg\n",
      "----------Processing Done------------\n"
     ]
    }
   ],
   "source": [
    "def pupil_detect(eyeArr):\n",
    "    rows, cols, _ = eyeArr.shape\n",
    "\n",
    "    gray_eye = cv2.cvtColor(eyeArr, cv2.COLOR_BGR2GRAY)\n",
    "    gray_eye = cv2.GaussianBlur(gray_eye, (9, 9), 0)\n",
    "    gray_eye = cv2.medianBlur(gray_eye, 3)\n",
    "\n",
    "    threshold = cv2.threshold(gray_eye, 25, 255, cv2.THRESH_BINARY_INV)[1]\n",
    "    contours = cv2.findContours(threshold, cv2.RETR_TREE, cv2.CHAIN_APPROX_SIMPLE)[1]\n",
    "    contours = sorted(contours, key=lambda x: cv2.contourArea(x), reverse=True)\n",
    "\n",
    "    for cnt in contours:\n",
    "        (x, y, w, h) = cv2.boundingRect(cnt)\n",
    "        cv2.circle(eyeArr, (x + int(w/2), y + int(h/2)), int((h)/3), (0, 0, 255), 3)\n",
    "        cv2.line(eyeArr, (x + int(w/2), 0), (x + int(w/2), rows), (0, 255, 0), 2)\n",
    "        cv2.line(eyeArr, (0, y + int(h/2)), (cols , y + int(h/2)), (0, 255, 0), 2)\n",
    "        break\n",
    "    \n",
    "    cv2.imwrite(out_dir + 'res_' + f, eyeArr)\n",
    "    return eyeArr\n",
    "\n",
    "input_dir = './samples/'\n",
    "out_dir = './result/'\n",
    "\n",
    "#input_dir = 'C:\\Users\\Admin\\Desktop\\COEP\\SEM 2\\DL\\Real time pupil detection system\\Pupil-Detection-master\\pupil_detect_images\\samples'\n",
    "#out_dir = 'C:\\Users\\Admin\\Desktop\\COEP\\SEM 2\\DL\\Real time pupil detection system\\Pupil-Detection-master\\pupil_detect_images\\result'\n",
    "\n",
    "\n",
    "files = [file for file in os.listdir(input_dir) if file.endswith(\".jpg\")]\n",
    "\n",
    "if os.path.exists(input_dir + \"result\") and os.path.isdir(input_dir + \"result\"):\n",
    "    shutil.rmtree(input_dir + \"result\")\n",
    "if not os.path.exists(input_dir + \"result\"):\n",
    "    os.mkdir(input_dir + \"result\")\n",
    "    \n",
    "count = 1\n",
    "for f in files:\n",
    "    print(\"Processing file: \", f)\n",
    "    pupil_detect(cv2.imread(input_dir + str(f)))\n",
    "    count += 1\n",
    "    print(\"----------Processing Done------------\")"
   ]
  },
  {
   "cell_type": "code",
   "execution_count": 11,
   "metadata": {},
   "outputs": [
    {
     "name": "stdout",
     "output_type": "stream",
     "text": [
      "Collecting pypng\n",
      "  Downloading pypng-0.0.20.tar.gz (649 kB)\n",
      "Building wheels for collected packages: pypng\n",
      "  Building wheel for pypng (setup.py): started\n",
      "  Building wheel for pypng (setup.py): finished with status 'done'\n",
      "  Created wheel for pypng: filename=pypng-0.0.20-py3-none-any.whl size=67167 sha256=43198187372a1da83852aab1492fdf118100d473d88c3d1b3ab09e43ca95aa70\n",
      "  Stored in directory: c:\\users\\admin\\appdata\\local\\pip\\cache\\wheels\\54\\64\\43\\dfd10cf95dc1687dc5350e861321ecd9a5d76b7c3d96fa1dc6\n",
      "Successfully built pypng\n",
      "Installing collected packages: pypng\n",
      "Successfully installed pypng-0.0.20\n",
      "Note: you may need to restart the kernel to use updated packages.\n"
     ]
    }
   ],
   "source": [
    "pip install pypng"
   ]
  },
  {
   "cell_type": "code",
   "execution_count": null,
   "metadata": {},
   "outputs": [
    {
     "name": "stdout",
     "output_type": "stream",
     "text": [
      "point1x= 460.0\n",
      "point1y= 630.0\n",
      "point2x= 268.0\n",
      "point2y= 232.0\n",
      "distance =  441.89138937073665\n"
     ]
    }
   ],
   "source": [
    "import cv2\n",
    "import numpy as np\n",
    "import argparse\n",
    "import math\n",
    "from scipy.spatial import distance\n",
    "\n",
    "img = cv2.imread(\"2.jpg\", 0)\n",
    "img = cv2.medianBlur(img,5)\n",
    "cimg = cv2.cvtColor(img,cv2.COLOR_GRAY2BGR)\n",
    "\n",
    "cv2.namedWindow(\"Display\", flags= cv2.WINDOW_AUTOSIZE)\n",
    "\n",
    "circles = cv2.HoughCircles(img,cv2.HOUGH_GRADIENT,1,100,\n",
    "                           param1=50,param2=25,minRadius=10,maxRadius=30)\n",
    "circles = np.uint16(np.around(circles))\n",
    "\n",
    "#coordinates of pupils\n",
    "point1x = 0.0\n",
    "point1y = 0.0\n",
    "point2x = 0.0\n",
    "point2y = 0.0\n",
    "\n",
    "#coordinates of object on forehead\n",
    "leftpointx = 0\n",
    "leftpointy = 0\n",
    "rightpointx = 0\n",
    "rightpointy = 0\n",
    "\n",
    "#coordinates of pupils in case hough circles doesn't work\n",
    "leftpointx2 = 0\n",
    "leftpointy2 = 0\n",
    "rightpointx2 = 0\n",
    "rightpointy2 = 0\n",
    "\n",
    "objectexist = 0\n",
    "\n",
    "m = 0\n",
    "k = 0\n",
    "\n",
    "dist = 0 #distance of pupils in pixels\n",
    "dist2 = 0 #distance of object in pixels\n",
    "mm = 100 #distance of object in mm\n",
    "n = 1\n",
    "\n",
    "for i in circles[0,:]:\n",
    "    # draw the outer circle\n",
    "    cv2.circle(cimg,(i[0],i[1]),i[2],(0,255,0),2)\n",
    "    # draw the center of the circle\n",
    "    cv2.circle(cimg,(i[0],i[1]),2,(0,0,255),3)\n",
    "    if n == 1:\n",
    "        n = 2\n",
    "        point1x = float(i[0])\n",
    "        point1y = float(i[1])\n",
    "    elif n==2 :\n",
    "        point2x = float(i[0])\n",
    "        point2y = float(i[1])\n",
    "\n",
    "print(\"point1x=\",point1x)\n",
    "print(\"point1y=\",point1y)\n",
    "print(\"point2x=\",point2x)\n",
    "print(\"point2y=\",point2y)\n",
    "\n",
    "dist = math.hypot(point2x - point1x, point2y - point1y) #ipd in pixels\n",
    "\n",
    "#if dist < 10000:\n",
    "print(\"distance = \",dist)\n",
    "\n",
    "while(1):\n",
    "    cv2.imshow(\"Display\",cimg)\n",
    "    if dist2 == 0 and dist < 10000:\n",
    "        c = cv2.waitKey(0)\n",
    "        if c == 32: #spacebar\n",
    "            dist2 = 500\n",
    "            distanceInMM = dist * (mm / dist2)  # ipd in mm\n",
    "            print(\"IPD in mm = \" + str(distanceInMM))\n",
    "\n",
    "    if cv2.waitKey(15)%0x100==27:break\t\t# waiting for clicking escape key\n",
    "cv2.destroyWindow(\"Display\")"
   ]
  },
  {
   "cell_type": "code",
   "execution_count": null,
   "metadata": {},
   "outputs": [],
   "source": []
  }
 ],
 "metadata": {
  "kernelspec": {
   "display_name": "Python 3",
   "language": "python",
   "name": "python3"
  },
  "language_info": {
   "codemirror_mode": {
    "name": "ipython",
    "version": 3
   },
   "file_extension": ".py",
   "mimetype": "text/x-python",
   "name": "python",
   "nbconvert_exporter": "python",
   "pygments_lexer": "ipython3",
   "version": "3.7.6"
  }
 },
 "nbformat": 4,
 "nbformat_minor": 4
}
