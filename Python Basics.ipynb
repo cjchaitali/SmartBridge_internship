{
 "cells": [
  {
   "cell_type": "code",
   "execution_count": 1,
   "metadata": {},
   "outputs": [
    {
     "name": "stdout",
     "output_type": "stream",
     "text": [
      "Hello interns\n"
     ]
    }
   ],
   "source": [
    "print(\"Hello interns\")"
   ]
  },
  {
   "cell_type": "raw",
   "metadata": {},
   "source": [
    "for single line commenting use # \n",
    "for multi line commenting use \n",
    "'''\n",
    "'''"
   ]
  },
  {
   "cell_type": "code",
   "execution_count": 2,
   "metadata": {},
   "outputs": [
    {
     "data": {
      "text/plain": [
       "11"
      ]
     },
     "execution_count": 2,
     "metadata": {},
     "output_type": "execute_result"
    }
   ],
   "source": [
    "a = 11\n",
    "a"
   ]
  },
  {
   "cell_type": "code",
   "execution_count": 3,
   "metadata": {},
   "outputs": [
    {
     "data": {
      "text/plain": [
       "int"
      ]
     },
     "execution_count": 3,
     "metadata": {},
     "output_type": "execute_result"
    }
   ],
   "source": [
    "type(a)"
   ]
  },
  {
   "cell_type": "code",
   "execution_count": 4,
   "metadata": {},
   "outputs": [
    {
     "data": {
      "text/plain": [
       "10.3"
      ]
     },
     "execution_count": 4,
     "metadata": {},
     "output_type": "execute_result"
    }
   ],
   "source": [
    "b =10.3\n",
    "b"
   ]
  },
  {
   "cell_type": "code",
   "execution_count": 5,
   "metadata": {},
   "outputs": [
    {
     "data": {
      "text/plain": [
       "float"
      ]
     },
     "execution_count": 5,
     "metadata": {},
     "output_type": "execute_result"
    }
   ],
   "source": [
    "type(b)"
   ]
  },
  {
   "cell_type": "code",
   "execution_count": 6,
   "metadata": {},
   "outputs": [
    {
     "data": {
      "text/plain": [
       "'cj'"
      ]
     },
     "execution_count": 6,
     "metadata": {},
     "output_type": "execute_result"
    }
   ],
   "source": [
    "name = \"cj\"\n",
    "name"
   ]
  },
  {
   "cell_type": "code",
   "execution_count": 7,
   "metadata": {},
   "outputs": [
    {
     "data": {
      "text/plain": [
       "str"
      ]
     },
     "execution_count": 7,
     "metadata": {},
     "output_type": "execute_result"
    }
   ],
   "source": [
    "type(name)"
   ]
  },
  {
   "cell_type": "code",
   "execution_count": 8,
   "metadata": {},
   "outputs": [],
   "source": [
    "a=b=c=d=\"taj hotel\""
   ]
  },
  {
   "cell_type": "code",
   "execution_count": 9,
   "metadata": {},
   "outputs": [
    {
     "data": {
      "text/plain": [
       "'taj hotel'"
      ]
     },
     "execution_count": 9,
     "metadata": {},
     "output_type": "execute_result"
    }
   ],
   "source": [
    "a"
   ]
  },
  {
   "cell_type": "code",
   "execution_count": 10,
   "metadata": {},
   "outputs": [
    {
     "data": {
      "text/plain": [
       "'taj hotel'"
      ]
     },
     "execution_count": 10,
     "metadata": {},
     "output_type": "execute_result"
    }
   ],
   "source": [
    "b"
   ]
  },
  {
   "cell_type": "code",
   "execution_count": 11,
   "metadata": {},
   "outputs": [
    {
     "data": {
      "text/plain": [
       "'taj hotel'"
      ]
     },
     "execution_count": 11,
     "metadata": {},
     "output_type": "execute_result"
    }
   ],
   "source": [
    "c"
   ]
  },
  {
   "cell_type": "code",
   "execution_count": 12,
   "metadata": {},
   "outputs": [
    {
     "data": {
      "text/plain": [
       "'taj hotel'"
      ]
     },
     "execution_count": 12,
     "metadata": {},
     "output_type": "execute_result"
    }
   ],
   "source": [
    "d"
   ]
  },
  {
   "cell_type": "code",
   "execution_count": 13,
   "metadata": {},
   "outputs": [],
   "source": [
    "a,b,c=\"hi\",\"hello\",\"how are you\""
   ]
  },
  {
   "cell_type": "code",
   "execution_count": 14,
   "metadata": {},
   "outputs": [
    {
     "data": {
      "text/plain": [
       "'hi'"
      ]
     },
     "execution_count": 14,
     "metadata": {},
     "output_type": "execute_result"
    }
   ],
   "source": [
    "a"
   ]
  },
  {
   "cell_type": "code",
   "execution_count": 15,
   "metadata": {},
   "outputs": [
    {
     "data": {
      "text/plain": [
       "'how are you'"
      ]
     },
     "execution_count": 15,
     "metadata": {},
     "output_type": "execute_result"
    }
   ],
   "source": [
    "c"
   ]
  },
  {
   "cell_type": "markdown",
   "metadata": {},
   "source": [
    "## Slicing of strings"
   ]
  },
  {
   "cell_type": "code",
   "execution_count": 16,
   "metadata": {},
   "outputs": [
    {
     "data": {
      "text/plain": [
       "'hello interns'"
      ]
     },
     "execution_count": 16,
     "metadata": {},
     "output_type": "execute_result"
    }
   ],
   "source": [
    "z = \"hello interns\"\n",
    "z"
   ]
  },
  {
   "cell_type": "code",
   "execution_count": 17,
   "metadata": {},
   "outputs": [
    {
     "data": {
      "text/plain": [
       "'hello'"
      ]
     },
     "execution_count": 17,
     "metadata": {},
     "output_type": "execute_result"
    }
   ],
   "source": [
    "z[0:5]"
   ]
  },
  {
   "cell_type": "code",
   "execution_count": 18,
   "metadata": {},
   "outputs": [
    {
     "data": {
      "text/plain": [
       "'interns'"
      ]
     },
     "execution_count": 18,
     "metadata": {},
     "output_type": "execute_result"
    }
   ],
   "source": [
    "z[6:]"
   ]
  },
  {
   "cell_type": "code",
   "execution_count": 19,
   "metadata": {},
   "outputs": [
    {
     "data": {
      "text/plain": [
       "'lo inter'"
      ]
     },
     "execution_count": 19,
     "metadata": {},
     "output_type": "execute_result"
    }
   ],
   "source": [
    "z[3:11]"
   ]
  },
  {
   "cell_type": "markdown",
   "metadata": {},
   "source": [
    "## List"
   ]
  },
  {
   "cell_type": "code",
   "execution_count": 20,
   "metadata": {},
   "outputs": [],
   "source": [
    "z =[78,56,89,45]\n",
    "z.reverse()"
   ]
  },
  {
   "cell_type": "code",
   "execution_count": 21,
   "metadata": {},
   "outputs": [
    {
     "data": {
      "text/plain": [
       "[45, 89, 56, 78]"
      ]
     },
     "execution_count": 21,
     "metadata": {},
     "output_type": "execute_result"
    }
   ],
   "source": [
    "z"
   ]
  },
  {
   "cell_type": "code",
   "execution_count": 22,
   "metadata": {
    "scrolled": true
   },
   "outputs": [
    {
     "data": {
      "text/plain": [
       "['__add__',\n",
       " '__class__',\n",
       " '__contains__',\n",
       " '__delattr__',\n",
       " '__delitem__',\n",
       " '__dir__',\n",
       " '__doc__',\n",
       " '__eq__',\n",
       " '__format__',\n",
       " '__ge__',\n",
       " '__getattribute__',\n",
       " '__getitem__',\n",
       " '__gt__',\n",
       " '__hash__',\n",
       " '__iadd__',\n",
       " '__imul__',\n",
       " '__init__',\n",
       " '__init_subclass__',\n",
       " '__iter__',\n",
       " '__le__',\n",
       " '__len__',\n",
       " '__lt__',\n",
       " '__mul__',\n",
       " '__ne__',\n",
       " '__new__',\n",
       " '__reduce__',\n",
       " '__reduce_ex__',\n",
       " '__repr__',\n",
       " '__reversed__',\n",
       " '__rmul__',\n",
       " '__setattr__',\n",
       " '__setitem__',\n",
       " '__sizeof__',\n",
       " '__str__',\n",
       " '__subclasshook__',\n",
       " 'append',\n",
       " 'clear',\n",
       " 'copy',\n",
       " 'count',\n",
       " 'extend',\n",
       " 'index',\n",
       " 'insert',\n",
       " 'pop',\n",
       " 'remove',\n",
       " 'reverse',\n",
       " 'sort']"
      ]
     },
     "execution_count": 22,
     "metadata": {},
     "output_type": "execute_result"
    }
   ],
   "source": [
    "dir(list)"
   ]
  },
  {
   "cell_type": "code",
   "execution_count": 23,
   "metadata": {},
   "outputs": [
    {
     "data": {
      "text/plain": [
       "[45, 89, 56, 78, 23]"
      ]
     },
     "execution_count": 23,
     "metadata": {},
     "output_type": "execute_result"
    }
   ],
   "source": [
    "z.append(23) ##adding an element\n",
    "z"
   ]
  },
  {
   "cell_type": "code",
   "execution_count": 24,
   "metadata": {},
   "outputs": [
    {
     "data": {
      "text/plain": [
       "[45, 89, 56, 78, 'CJ', 23]"
      ]
     },
     "execution_count": 24,
     "metadata": {},
     "output_type": "execute_result"
    }
   ],
   "source": [
    "z.insert(4,\"CJ\")\n",
    "z"
   ]
  },
  {
   "cell_type": "code",
   "execution_count": 25,
   "metadata": {},
   "outputs": [
    {
     "data": {
      "text/plain": [
       "[45, 89, 56, 78, 'CJ', 'intern']"
      ]
     },
     "execution_count": 25,
     "metadata": {},
     "output_type": "execute_result"
    }
   ],
   "source": [
    "z[-1]= \"intern\"\n",
    "z"
   ]
  },
  {
   "cell_type": "code",
   "execution_count": 26,
   "metadata": {},
   "outputs": [
    {
     "data": {
      "text/plain": [
       "[45, 89, 56, 78, 'intern', 'intern']"
      ]
     },
     "execution_count": 26,
     "metadata": {},
     "output_type": "execute_result"
    }
   ],
   "source": [
    "z[-2]= \"intern\"\n",
    "z"
   ]
  },
  {
   "cell_type": "code",
   "execution_count": 27,
   "metadata": {},
   "outputs": [
    {
     "data": {
      "text/plain": [
       "2"
      ]
     },
     "execution_count": 27,
     "metadata": {},
     "output_type": "execute_result"
    }
   ],
   "source": [
    "z.count(\"intern\")"
   ]
  },
  {
   "cell_type": "code",
   "execution_count": 28,
   "metadata": {},
   "outputs": [
    {
     "data": {
      "text/plain": [
       "[10, 34, 56, 70, 80]"
      ]
     },
     "execution_count": 28,
     "metadata": {},
     "output_type": "execute_result"
    }
   ],
   "source": [
    "p = [10,70,80,56,34]\n",
    "p.sort()\n",
    "p"
   ]
  },
  {
   "cell_type": "code",
   "execution_count": 29,
   "metadata": {},
   "outputs": [
    {
     "data": {
      "text/plain": [
       "[10, 34, 56, 80]"
      ]
     },
     "execution_count": 29,
     "metadata": {},
     "output_type": "execute_result"
    }
   ],
   "source": [
    "p.remove(70)\n",
    "p"
   ]
  },
  {
   "cell_type": "code",
   "execution_count": 30,
   "metadata": {},
   "outputs": [
    {
     "data": {
      "text/plain": [
       "[10, 34, 56, 80]"
      ]
     },
     "execution_count": 30,
     "metadata": {},
     "output_type": "execute_result"
    }
   ],
   "source": [
    "q= p.copy()\n",
    "q"
   ]
  },
  {
   "cell_type": "markdown",
   "metadata": {},
   "source": [
    "## Tuple"
   ]
  },
  {
   "cell_type": "raw",
   "metadata": {},
   "source": [
    "tuples are faster than list"
   ]
  },
  {
   "cell_type": "code",
   "execution_count": 31,
   "metadata": {},
   "outputs": [],
   "source": [
    "var = (5,7,8,\"chaitali\")"
   ]
  },
  {
   "cell_type": "code",
   "execution_count": 32,
   "metadata": {},
   "outputs": [
    {
     "data": {
      "text/plain": [
       "tuple"
      ]
     },
     "execution_count": 32,
     "metadata": {},
     "output_type": "execute_result"
    }
   ],
   "source": [
    "type(var)"
   ]
  },
  {
   "cell_type": "code",
   "execution_count": 33,
   "metadata": {},
   "outputs": [
    {
     "data": {
      "text/plain": [
       "['__add__',\n",
       " '__class__',\n",
       " '__contains__',\n",
       " '__delattr__',\n",
       " '__dir__',\n",
       " '__doc__',\n",
       " '__eq__',\n",
       " '__format__',\n",
       " '__ge__',\n",
       " '__getattribute__',\n",
       " '__getitem__',\n",
       " '__getnewargs__',\n",
       " '__gt__',\n",
       " '__hash__',\n",
       " '__init__',\n",
       " '__init_subclass__',\n",
       " '__iter__',\n",
       " '__le__',\n",
       " '__len__',\n",
       " '__lt__',\n",
       " '__mul__',\n",
       " '__ne__',\n",
       " '__new__',\n",
       " '__reduce__',\n",
       " '__reduce_ex__',\n",
       " '__repr__',\n",
       " '__rmul__',\n",
       " '__setattr__',\n",
       " '__sizeof__',\n",
       " '__str__',\n",
       " '__subclasshook__',\n",
       " 'count',\n",
       " 'index']"
      ]
     },
     "execution_count": 33,
     "metadata": {},
     "output_type": "execute_result"
    }
   ],
   "source": [
    "dir(tuple)"
   ]
  },
  {
   "cell_type": "code",
   "execution_count": 34,
   "metadata": {},
   "outputs": [
    {
     "data": {
      "text/plain": [
       "(7, 8)"
      ]
     },
     "execution_count": 34,
     "metadata": {},
     "output_type": "execute_result"
    }
   ],
   "source": [
    "var[-3:-1]"
   ]
  },
  {
   "cell_type": "code",
   "execution_count": 35,
   "metadata": {},
   "outputs": [
    {
     "data": {
      "text/plain": [
       "(7, 8)"
      ]
     },
     "execution_count": 35,
     "metadata": {},
     "output_type": "execute_result"
    }
   ],
   "source": [
    "var[1:-1]"
   ]
  },
  {
   "cell_type": "raw",
   "metadata": {},
   "source": [
    "var[-1]= \"cj\" #tuples are immutable, it will throw an error"
   ]
  },
  {
   "cell_type": "code",
   "execution_count": 36,
   "metadata": {},
   "outputs": [
    {
     "data": {
      "text/plain": [
       "[5, 7, 8, 'chaitali']"
      ]
     },
     "execution_count": 36,
     "metadata": {},
     "output_type": "execute_result"
    }
   ],
   "source": [
    "z= list(var) #typecasting\n",
    "z"
   ]
  },
  {
   "cell_type": "code",
   "execution_count": 37,
   "metadata": {},
   "outputs": [
    {
     "data": {
      "text/plain": [
       "(5, 7, 8, 'chaitali')"
      ]
     },
     "execution_count": 37,
     "metadata": {},
     "output_type": "execute_result"
    }
   ],
   "source": [
    "var"
   ]
  },
  {
   "cell_type": "code",
   "execution_count": 38,
   "metadata": {},
   "outputs": [
    {
     "data": {
      "text/plain": [
       "(5, 7, 8, 'chaitali')"
      ]
     },
     "execution_count": 38,
     "metadata": {},
     "output_type": "execute_result"
    }
   ],
   "source": [
    "y= tuple(z)\n",
    "y"
   ]
  },
  {
   "cell_type": "code",
   "execution_count": 39,
   "metadata": {},
   "outputs": [
    {
     "data": {
      "text/plain": [
       "[5, 7, 8, 'chaitali']"
      ]
     },
     "execution_count": 39,
     "metadata": {},
     "output_type": "execute_result"
    }
   ],
   "source": [
    "z"
   ]
  },
  {
   "cell_type": "code",
   "execution_count": 40,
   "metadata": {},
   "outputs": [
    {
     "data": {
      "text/plain": [
       "(5, 7, 8, 'chaitali', 5, 7, 8, 'chaitali')"
      ]
     },
     "execution_count": 40,
     "metadata": {},
     "output_type": "execute_result"
    }
   ],
   "source": [
    "y = y + var #adding two tuples\n",
    "y"
   ]
  },
  {
   "cell_type": "code",
   "execution_count": 41,
   "metadata": {},
   "outputs": [
    {
     "data": {
      "text/plain": [
       "1"
      ]
     },
     "execution_count": 41,
     "metadata": {},
     "output_type": "execute_result"
    }
   ],
   "source": [
    "z.count(5)"
   ]
  },
  {
   "cell_type": "markdown",
   "metadata": {},
   "source": [
    "## Dictionary"
   ]
  },
  {
   "cell_type": "code",
   "execution_count": 42,
   "metadata": {},
   "outputs": [],
   "source": [
    "cricket={\"captain\":\"virat\", \"hitman\":\"rohit\",\"Keeper_cool\":\"Dhoni\"}"
   ]
  },
  {
   "cell_type": "code",
   "execution_count": 43,
   "metadata": {},
   "outputs": [
    {
     "data": {
      "text/plain": [
       "dict"
      ]
     },
     "execution_count": 43,
     "metadata": {},
     "output_type": "execute_result"
    }
   ],
   "source": [
    "type(cricket)"
   ]
  },
  {
   "cell_type": "code",
   "execution_count": 44,
   "metadata": {},
   "outputs": [
    {
     "data": {
      "text/plain": [
       "dict_keys(['captain', 'hitman', 'Keeper_cool'])"
      ]
     },
     "execution_count": 44,
     "metadata": {},
     "output_type": "execute_result"
    }
   ],
   "source": [
    "cricket.keys()"
   ]
  },
  {
   "cell_type": "code",
   "execution_count": 45,
   "metadata": {},
   "outputs": [
    {
     "data": {
      "text/plain": [
       "['__class__',\n",
       " '__contains__',\n",
       " '__delattr__',\n",
       " '__delitem__',\n",
       " '__dir__',\n",
       " '__doc__',\n",
       " '__eq__',\n",
       " '__format__',\n",
       " '__ge__',\n",
       " '__getattribute__',\n",
       " '__getitem__',\n",
       " '__gt__',\n",
       " '__hash__',\n",
       " '__init__',\n",
       " '__init_subclass__',\n",
       " '__iter__',\n",
       " '__le__',\n",
       " '__len__',\n",
       " '__lt__',\n",
       " '__ne__',\n",
       " '__new__',\n",
       " '__reduce__',\n",
       " '__reduce_ex__',\n",
       " '__repr__',\n",
       " '__setattr__',\n",
       " '__setitem__',\n",
       " '__sizeof__',\n",
       " '__str__',\n",
       " '__subclasshook__',\n",
       " 'clear',\n",
       " 'copy',\n",
       " 'fromkeys',\n",
       " 'get',\n",
       " 'items',\n",
       " 'keys',\n",
       " 'pop',\n",
       " 'popitem',\n",
       " 'setdefault',\n",
       " 'update',\n",
       " 'values']"
      ]
     },
     "execution_count": 45,
     "metadata": {},
     "output_type": "execute_result"
    }
   ],
   "source": [
    "dir(cricket)"
   ]
  },
  {
   "cell_type": "code",
   "execution_count": 46,
   "metadata": {},
   "outputs": [
    {
     "data": {
      "text/plain": [
       "dict_values(['virat', 'rohit', 'Dhoni'])"
      ]
     },
     "execution_count": 46,
     "metadata": {},
     "output_type": "execute_result"
    }
   ],
   "source": [
    "cricket.values()"
   ]
  },
  {
   "cell_type": "code",
   "execution_count": 47,
   "metadata": {},
   "outputs": [
    {
     "data": {
      "text/plain": [
       "'virat'"
      ]
     },
     "execution_count": 47,
     "metadata": {},
     "output_type": "execute_result"
    }
   ],
   "source": [
    "cricket[\"captain\"]"
   ]
  },
  {
   "cell_type": "code",
   "execution_count": 48,
   "metadata": {},
   "outputs": [],
   "source": [
    "z = {\"alpha\":['a','b','c'], \"number\":[1,2,4]}"
   ]
  },
  {
   "cell_type": "code",
   "execution_count": 49,
   "metadata": {},
   "outputs": [
    {
     "data": {
      "text/plain": [
       "dict_values([['a', 'b', 'c'], [1, 2, 4]])"
      ]
     },
     "execution_count": 49,
     "metadata": {},
     "output_type": "execute_result"
    }
   ],
   "source": [
    "z.values()"
   ]
  },
  {
   "cell_type": "code",
   "execution_count": 50,
   "metadata": {},
   "outputs": [
    {
     "data": {
      "text/plain": [
       "dict_items([('captain', 'virat'), ('hitman', 'rohit'), ('Keeper_cool', 'Dhoni')])"
      ]
     },
     "execution_count": 50,
     "metadata": {},
     "output_type": "execute_result"
    }
   ],
   "source": [
    "cricket.items()"
   ]
  },
  {
   "cell_type": "code",
   "execution_count": 51,
   "metadata": {},
   "outputs": [],
   "source": [
    "new = {\"coach\":\"ravi\"}"
   ]
  },
  {
   "cell_type": "code",
   "execution_count": 52,
   "metadata": {},
   "outputs": [
    {
     "data": {
      "text/plain": [
       "{'captain': 'virat',\n",
       " 'hitman': 'rohit',\n",
       " 'Keeper_cool': 'Dhoni',\n",
       " 'coach': 'ravi'}"
      ]
     },
     "execution_count": 52,
     "metadata": {},
     "output_type": "execute_result"
    }
   ],
   "source": [
    "cricket.update(new)\n",
    "cricket"
   ]
  },
  {
   "cell_type": "code",
   "execution_count": 53,
   "metadata": {},
   "outputs": [
    {
     "data": {
      "text/plain": [
       "'ravi'"
      ]
     },
     "execution_count": 53,
     "metadata": {},
     "output_type": "execute_result"
    }
   ],
   "source": [
    "cricket.pop(\"coach\")"
   ]
  },
  {
   "cell_type": "code",
   "execution_count": 54,
   "metadata": {},
   "outputs": [
    {
     "data": {
      "text/plain": [
       "{'captain': 'virat', 'hitman': 'rohit', 'Keeper_cool': 'Dhoni'}"
      ]
     },
     "execution_count": 54,
     "metadata": {},
     "output_type": "execute_result"
    }
   ],
   "source": [
    "cricket"
   ]
  },
  {
   "cell_type": "code",
   "execution_count": 55,
   "metadata": {},
   "outputs": [
    {
     "data": {
      "text/plain": [
       "{'coach': 'ravi'}"
      ]
     },
     "execution_count": 55,
     "metadata": {},
     "output_type": "execute_result"
    }
   ],
   "source": [
    "a = new.copy()\n",
    "a"
   ]
  },
  {
   "cell_type": "markdown",
   "metadata": {},
   "source": [
    "## if..else"
   ]
  },
  {
   "cell_type": "code",
   "execution_count": 56,
   "metadata": {},
   "outputs": [
    {
     "name": "stdout",
     "output_type": "stream",
     "text": [
      "Enter num:23\n"
     ]
    },
    {
     "data": {
      "text/plain": [
       "23"
      ]
     },
     "execution_count": 56,
     "metadata": {},
     "output_type": "execute_result"
    }
   ],
   "source": [
    "value = int(input(\"Enter num:\")) # input takes string as input so have to typecasting\n",
    "value"
   ]
  },
  {
   "cell_type": "code",
   "execution_count": 57,
   "metadata": {},
   "outputs": [
    {
     "name": "stdout",
     "output_type": "stream",
     "text": [
      "Enter number:34\n",
      "34 is even\n"
     ]
    }
   ],
   "source": [
    "value = int(input(\"Enter number:\"))\n",
    "if(value%2==0):\n",
    "    print(value,\"is even\")\n",
    "else:\n",
    "    print(value,\"is odd\")"
   ]
  },
  {
   "cell_type": "code",
   "execution_count": 59,
   "metadata": {},
   "outputs": [
    {
     "name": "stdout",
     "output_type": "stream",
     "text": [
      "Enter number1:34\n",
      "Enter number2:56\n",
      "false\n"
     ]
    }
   ],
   "source": [
    "value1 = int(input(\"Enter number1:\"))\n",
    "value2 = int(input(\"Enter number2:\"))\n",
    "if(value1>25 and value2<50):\n",
    "    print(\"condition true\")\n",
    "elif(value1>50 and value2<70):\n",
    "    print(\"in else if\")\n",
    "else:\n",
    "    print(\"false\")"
   ]
  },
  {
   "cell_type": "code",
   "execution_count": 60,
   "metadata": {},
   "outputs": [
    {
     "name": "stdout",
     "output_type": "stream",
     "text": [
      "Enter numbers:3 56\n"
     ]
    }
   ],
   "source": [
    "a,b= input(\"Enter numbers:\").split()"
   ]
  },
  {
   "cell_type": "code",
   "execution_count": 61,
   "metadata": {},
   "outputs": [
    {
     "data": {
      "text/plain": [
       "'3'"
      ]
     },
     "execution_count": 61,
     "metadata": {},
     "output_type": "execute_result"
    }
   ],
   "source": [
    "a"
   ]
  },
  {
   "cell_type": "code",
   "execution_count": 62,
   "metadata": {},
   "outputs": [
    {
     "data": {
      "text/plain": [
       "'56'"
      ]
     },
     "execution_count": 62,
     "metadata": {},
     "output_type": "execute_result"
    }
   ],
   "source": [
    "b"
   ]
  },
  {
   "cell_type": "markdown",
   "metadata": {},
   "source": [
    "## while loop"
   ]
  },
  {
   "cell_type": "code",
   "execution_count": 64,
   "metadata": {},
   "outputs": [
    {
     "name": "stdout",
     "output_type": "stream",
     "text": [
      "Enter number1:12\n",
      "13\n",
      "14\n",
      "15\n"
     ]
    }
   ],
   "source": [
    "value1 = int(input(\"Enter number1:\"))\n",
    "while(value1<15):\n",
    "    value1= value1+1\n",
    "    print(value1)"
   ]
  },
  {
   "cell_type": "markdown",
   "metadata": {},
   "source": [
    "## For loop"
   ]
  },
  {
   "cell_type": "code",
   "execution_count": 65,
   "metadata": {},
   "outputs": [
    {
     "name": "stdout",
     "output_type": "stream",
     "text": [
      "c\n",
      "h\n",
      "a\n",
      "i\n",
      "t\n",
      "a\n",
      "l\n",
      "i\n"
     ]
    }
   ],
   "source": [
    "value= \"chaitali\"\n",
    "for i in value:\n",
    "    print(i)"
   ]
  },
  {
   "cell_type": "code",
   "execution_count": 66,
   "metadata": {},
   "outputs": [
    {
     "name": "stdout",
     "output_type": "stream",
     "text": [
      "10\n",
      "40\n",
      "50\n"
     ]
    }
   ],
   "source": [
    "z = [10,40,50]\n",
    "for i in z:\n",
    "    print(i)"
   ]
  },
  {
   "cell_type": "code",
   "execution_count": 67,
   "metadata": {},
   "outputs": [
    {
     "name": "stdout",
     "output_type": "stream",
     "text": [
      "10\n",
      "11\n",
      "12\n",
      "13\n",
      "14\n",
      "15\n",
      "16\n",
      "17\n",
      "18\n",
      "19\n"
     ]
    }
   ],
   "source": [
    "for i in range(10,20): #(start,n-1)\n",
    "    print(i)"
   ]
  },
  {
   "cell_type": "code",
   "execution_count": 68,
   "metadata": {},
   "outputs": [
    {
     "name": "stdout",
     "output_type": "stream",
     "text": [
      "10\n",
      "12\n",
      "14\n",
      "16\n",
      "18\n"
     ]
    }
   ],
   "source": [
    "for i in range(10,20,2): #range(start,n-1,step size)\n",
    "    print(i)"
   ]
  },
  {
   "cell_type": "code",
   "execution_count": 69,
   "metadata": {},
   "outputs": [
    {
     "name": "stdout",
     "output_type": "stream",
     "text": [
      "30\n",
      "25\n",
      "20\n",
      "15\n"
     ]
    }
   ],
   "source": [
    "for i in range(30,10,-5): #negative decremainting\n",
    "    print(i)"
   ]
  },
  {
   "cell_type": "markdown",
   "metadata": {},
   "source": [
    "## Functions"
   ]
  },
  {
   "cell_type": "code",
   "execution_count": 70,
   "metadata": {},
   "outputs": [
    {
     "data": {
      "text/plain": [
       "'inside hello function'"
      ]
     },
     "execution_count": 70,
     "metadata": {},
     "output_type": "execute_result"
    }
   ],
   "source": [
    "def hello():\n",
    "    return \"inside hello function\"\n",
    "\n",
    "hello()"
   ]
  },
  {
   "cell_type": "code",
   "execution_count": 72,
   "metadata": {},
   "outputs": [
    {
     "data": {
      "text/plain": [
       "60"
      ]
     },
     "execution_count": 72,
     "metadata": {},
     "output_type": "execute_result"
    }
   ],
   "source": [
    "def add(a,b,c):\n",
    "    a= a+b+c\n",
    "    return a\n",
    "\n",
    "add(10,20,30)"
   ]
  },
  {
   "cell_type": "code",
   "execution_count": 75,
   "metadata": {},
   "outputs": [
    {
     "data": {
      "text/plain": [
       "60"
      ]
     },
     "execution_count": 75,
     "metadata": {},
     "output_type": "execute_result"
    }
   ],
   "source": [
    "def add(a,b,c=10):\n",
    "    a= a+b+c\n",
    "    return a\n",
    "\n",
    "add(10,20,30)"
   ]
  },
  {
   "cell_type": "code",
   "execution_count": 76,
   "metadata": {},
   "outputs": [
    {
     "data": {
      "text/plain": [
       "40"
      ]
     },
     "execution_count": 76,
     "metadata": {},
     "output_type": "execute_result"
    }
   ],
   "source": [
    "def add(a,b,c=10):\n",
    "    a= a+b+c\n",
    "    return a\n",
    "\n",
    "add(10,20)"
   ]
  },
  {
   "cell_type": "code",
   "execution_count": 77,
   "metadata": {},
   "outputs": [
    {
     "data": {
      "text/plain": [
       "10"
      ]
     },
     "execution_count": 77,
     "metadata": {},
     "output_type": "execute_result"
    }
   ],
   "source": [
    "def add(a,b,c=10):\n",
    "    a= a - b\n",
    "    return a\n",
    "\n",
    "add(b=10,a=20)"
   ]
  },
  {
   "cell_type": "code",
   "execution_count": 80,
   "metadata": {},
   "outputs": [
    {
     "ename": "TypeError",
     "evalue": "add() got multiple values for argument 'a'",
     "output_type": "error",
     "traceback": [
      "\u001b[1;31m---------------------------------------------------------------------------\u001b[0m",
      "\u001b[1;31mTypeError\u001b[0m                                 Traceback (most recent call last)",
      "\u001b[1;32m<ipython-input-80-c9432ed30310>\u001b[0m in \u001b[0;36m<module>\u001b[1;34m\u001b[0m\n\u001b[0;32m      3\u001b[0m     \u001b[1;32mreturn\u001b[0m \u001b[0ma\u001b[0m\u001b[1;33m\u001b[0m\u001b[1;33m\u001b[0m\u001b[0m\n\u001b[0;32m      4\u001b[0m \u001b[1;33m\u001b[0m\u001b[0m\n\u001b[1;32m----> 5\u001b[1;33m \u001b[0madd\u001b[0m\u001b[1;33m(\u001b[0m\u001b[1;36m40\u001b[0m\u001b[1;33m,\u001b[0m\u001b[0mb\u001b[0m\u001b[1;33m=\u001b[0m\u001b[1;36m10\u001b[0m\u001b[1;33m,\u001b[0m\u001b[0ma\u001b[0m\u001b[1;33m=\u001b[0m\u001b[1;36m20\u001b[0m\u001b[1;33m)\u001b[0m\u001b[1;33m\u001b[0m\u001b[1;33m\u001b[0m\u001b[0m\n\u001b[0m",
      "\u001b[1;31mTypeError\u001b[0m: add() got multiple values for argument 'a'"
     ]
    }
   ],
   "source": [
    "def add(a,b,c=10):\n",
    "    a= a-b+c\n",
    "    return a\n",
    "\n",
    "add(40,b=10,a=20)"
   ]
  },
  {
   "cell_type": "code",
   "execution_count": 81,
   "metadata": {},
   "outputs": [
    {
     "data": {
      "text/plain": [
       "50"
      ]
     },
     "execution_count": 81,
     "metadata": {},
     "output_type": "execute_result"
    }
   ],
   "source": [
    "def add(a,b,c=10):\n",
    "    a= a-b+c\n",
    "    return a\n",
    "\n",
    "add(c=40,b=10,a=20)"
   ]
  },
  {
   "cell_type": "code",
   "execution_count": 82,
   "metadata": {},
   "outputs": [
    {
     "data": {
      "text/plain": [
       "60.5"
      ]
     },
     "execution_count": 82,
     "metadata": {},
     "output_type": "execute_result"
    }
   ],
   "source": [
    "def add(a,b,c=10):\n",
    "    a= a*b+c\n",
    "    return a\n",
    "\n",
    "add(c=40.5,b=10,a=2)"
   ]
  },
  {
   "cell_type": "markdown",
   "metadata": {},
   "source": [
    "# Local & Global Variables"
   ]
  },
  {
   "cell_type": "code",
   "execution_count": 83,
   "metadata": {},
   "outputs": [
    {
     "name": "stdout",
     "output_type": "stream",
     "text": [
      "{'x': 1}\n"
     ]
    },
    {
     "data": {
      "text/plain": [
       "1"
      ]
     },
     "execution_count": 83,
     "metadata": {},
     "output_type": "execute_result"
    }
   ],
   "source": [
    "def f1():\n",
    "    x=1\n",
    "    print(locals())\n",
    "    return x\n",
    "\n",
    "f1() #calling f1"
   ]
  },
  {
   "cell_type": "code",
   "execution_count": 86,
   "metadata": {},
   "outputs": [
    {
     "name": "stdout",
     "output_type": "stream",
     "text": [
      "{}\n"
     ]
    },
    {
     "data": {
      "text/plain": [
       "1"
      ]
     },
     "execution_count": 86,
     "metadata": {},
     "output_type": "execute_result"
    }
   ],
   "source": [
    "x2=1\n",
    "def f2():\n",
    "    print(locals()) #no local variables present\n",
    "    return x2\n",
    "    \n",
    "f2()"
   ]
  },
  {
   "cell_type": "code",
   "execution_count": 87,
   "metadata": {},
   "outputs": [
    {
     "name": "stdout",
     "output_type": "stream",
     "text": [
      "{'x2': 5}\n"
     ]
    },
    {
     "data": {
      "text/plain": [
       "5"
      ]
     },
     "execution_count": 87,
     "metadata": {},
     "output_type": "execute_result"
    }
   ],
   "source": [
    "x2=1\n",
    "def f2():\n",
    "    x2= 5\n",
    "    print(locals())\n",
    "    return x2\n",
    "    \n",
    "f2()"
   ]
  },
  {
   "cell_type": "code",
   "execution_count": 88,
   "metadata": {},
   "outputs": [
    {
     "name": "stdout",
     "output_type": "stream",
     "text": [
      "{'__name__': '__main__', '__doc__': 'Automatically created module for IPython interactive environment', '__package__': None, '__loader__': None, '__spec__': None, '__builtin__': <module 'builtins' (built-in)>, '__builtins__': <module 'builtins' (built-in)>, '_ih': ['', 'print(\"Hello interns\")', 'a = 11\\na', 'type(a)', 'b =10.3\\nb', 'type(b)', 'name = \"cj\"\\nname', 'type(name)', 'a=b=c=d=\"taj hotel\"', 'a', 'b', 'c', 'd', 'a,b,c=\"hi\",\"hello\",\"how are you\"', 'a', 'c', 'z = \"hello interns\"\\nz', 'z[0:5]', 'z[6:]', 'z[3:11]', 'z =[78,56,89,45]\\nz.reverse()', 'z', 'dir(list)', 'z.append(23) ##adding an element\\nz', 'z.insert(4,\"CJ\")\\nz', 'z[-1]= \"intern\"\\nz', 'z[-2]= \"intern\"\\nz', 'z.count(\"intern\")', 'p = [10,70,80,56,34]\\np.sort()\\np', 'p.remove(70)\\np', 'q= p.copy()\\nq', 'var = (5,7,8,\"chaitali\")', 'type(var)', 'dir(tuple)', 'var[-3:-1]', 'var[1:-1]', 'z= list(var) #typecasting\\nz', 'var', 'y= tuple(z)\\ny', 'z', 'y = y + var #adding two tuples\\ny', 'z.count(5)', 'cricket={\"captain\":\"virat\", \"hitman\":\"rohit\",\"Keeper_cool\":\"Dhoni\"}', 'type(cricket)', 'cricket.keys()', 'dir(cricket)', 'cricket.values()', 'cricket[\"captain\"]', 'z = {\"alpha\":[\\'a\\',\\'b\\',\\'c\\'], \"number\":[1,2,4]}', 'z.values()', 'cricket.items()', 'new = {\"coach\":\"ravi\"}', 'cricket.update(new)\\ncricket', 'cricket.pop(\"coach\")', 'cricket', 'a = new.copy()\\na', 'value = int(input(\"Enter num:\")) # input takes string as input so ahve to typecasting\\nvalue', 'value = int(input(\"Enter number:\"))\\nif(value%2==0):\\n    print(value,\"is even\")\\nelse:\\n    print(value,\"is odd\")', 'value1 = int(input(\"Enter number1:\"))\\nvalue2 = int(input(\"Enter number2:\"))\\nif(value1>25 and value2<50):\\n    print(\"condition true\")\\nelif(value1>50 and value2<70):\\n    print(\"in else if\")\\nelse:\\n    print(\"false\")', 'value1 = int(input(\"Enter number1:\"))\\nvalue2 = int(input(\"Enter number2:\"))\\nif(value1>25 and value2<50):\\n    print(\"condition true\")\\nelif(value1>50 and value2<70):\\n    print(\"in else if\")\\nelse:\\n    print(\"false\")', 'a,b= input(\"Enter numbers:\").split()', 'a', 'b', 'value1 = int(input(\"Enter number1:\"))\\nwhile(value1<15):\\n    value1= value1+1\\n    print(value1)', 'value1 = int(input(\"Enter number1:\"))\\nwhile(value1<15):\\n    value1= value1+1\\n    print(value1)', 'value= \"chaitali\"\\nfor i in value:\\n    print(i)', 'z = [10,40,50]\\nfor i in z:\\n    print(i)', 'for i in range(10,20): #(start,n-1)\\n    print(i)', 'for i in range(10,20,2): #range(start,n-1,step size)\\n    print(i)', 'for i in range(30,10,-5): #negative decremainting\\n    print(i)', 'def hello():\\n    return \"inside hello function\"\\n\\nhello()', 'def add(a,b=50,c=50):\\n    a= a+b+c\\n    return a\\n\\nadd(10,20,30)', 'def add(a,b,c):\\n    a= a+b+c\\n    return a\\n\\nadd(10,20,30)', 'def add(a,b,c=10):\\n    a= a+b+c\\n    return a\\n\\nadd(10,20,30)', 'def add(a,b,c=10):\\n    a= a+b+c\\n    return a\\n\\nadd(10,20)', 'def add(a,b,c=10):\\n    a= a+b+c\\n    return a\\n\\nadd(10,20,30)', 'def add(a,b,c=10):\\n    a= a+b+c\\n    return a\\n\\nadd(10,20)', 'def add(a,b,c=10):\\n    a= a - b\\n    return a\\n\\nadd(b=10,a=20)', 'def add(a,b,c=10):\\n    a= a-b+c\\n    return a\\n\\nadd(40,b=10,a=20)', 'def add(a,b,c=10):\\n    a= a-b+c\\n    return a\\n\\nadd(c=40,b=10,a=20)', 'def add(a,b,c=10):\\n    a= a-b+c\\n    return a\\n\\nadd(40,b=10,a=20)', 'def add(a,b,c=10):\\n    a= a-b+c\\n    return a\\n\\nadd(c=40,b=10,a=20)', 'def add(a,b,c=10):\\n    a= a*b+c\\n    return a\\n\\nadd(c=40.5,b=10,a=2)', 'def f1():\\n    x=1\\n    print(locals())\\n    return x\\n\\nf1() #calling f1', 'x2=1\\ndef f2():\\n    print(locals)\\n    retuen x2\\n    \\nf2()', 'x2=1\\ndef f2():\\n    print(locals)\\n    return x2\\n    \\nf2()', 'x2=1\\ndef f2():\\n    print(locals())\\n    return x2\\n    \\nf2()', 'x2=1\\ndef f2():\\n    x2= 5\\n    print(locals())\\n    return x2\\n    \\nf2()', 'print(globals())'], '_oh': {2: 11, 3: <class 'int'>, 4: 10.3, 5: <class 'float'>, 6: 'cj', 7: <class 'str'>, 9: 'taj hotel', 10: 'taj hotel', 11: 'taj hotel', 12: 'taj hotel', 14: 'hi', 15: 'how are you', 16: 'hello interns', 17: 'hello', 18: 'interns', 19: 'lo inter', 21: [45, 89, 56, 78, 'intern', 'intern'], 22: ['__add__', '__class__', '__contains__', '__delattr__', '__delitem__', '__dir__', '__doc__', '__eq__', '__format__', '__ge__', '__getattribute__', '__getitem__', '__gt__', '__hash__', '__iadd__', '__imul__', '__init__', '__init_subclass__', '__iter__', '__le__', '__len__', '__lt__', '__mul__', '__ne__', '__new__', '__reduce__', '__reduce_ex__', '__repr__', '__reversed__', '__rmul__', '__setattr__', '__setitem__', '__sizeof__', '__str__', '__subclasshook__', 'append', 'clear', 'copy', 'count', 'extend', 'index', 'insert', 'pop', 'remove', 'reverse', 'sort'], 23: [45, 89, 56, 78, 'intern', 'intern'], 24: [45, 89, 56, 78, 'intern', 'intern'], 25: [45, 89, 56, 78, 'intern', 'intern'], 26: [45, 89, 56, 78, 'intern', 'intern'], 27: 2, 28: [10, 34, 56, 80], 29: [10, 34, 56, 80], 30: [10, 34, 56, 80], 32: <class 'tuple'>, 33: ['__add__', '__class__', '__contains__', '__delattr__', '__dir__', '__doc__', '__eq__', '__format__', '__ge__', '__getattribute__', '__getitem__', '__getnewargs__', '__gt__', '__hash__', '__init__', '__init_subclass__', '__iter__', '__le__', '__len__', '__lt__', '__mul__', '__ne__', '__new__', '__reduce__', '__reduce_ex__', '__repr__', '__rmul__', '__setattr__', '__sizeof__', '__str__', '__subclasshook__', 'count', 'index'], 34: (7, 8), 35: (7, 8), 36: [5, 7, 8, 'chaitali'], 37: (5, 7, 8, 'chaitali'), 38: (5, 7, 8, 'chaitali'), 39: [5, 7, 8, 'chaitali'], 40: (5, 7, 8, 'chaitali', 5, 7, 8, 'chaitali'), 41: 1, 43: <class 'dict'>, 44: dict_keys(['captain', 'hitman', 'Keeper_cool']), 45: ['__class__', '__contains__', '__delattr__', '__delitem__', '__dir__', '__doc__', '__eq__', '__format__', '__ge__', '__getattribute__', '__getitem__', '__gt__', '__hash__', '__init__', '__init_subclass__', '__iter__', '__le__', '__len__', '__lt__', '__ne__', '__new__', '__reduce__', '__reduce_ex__', '__repr__', '__setattr__', '__setitem__', '__sizeof__', '__str__', '__subclasshook__', 'clear', 'copy', 'fromkeys', 'get', 'items', 'keys', 'pop', 'popitem', 'setdefault', 'update', 'values'], 46: dict_values(['virat', 'rohit', 'Dhoni']), 47: 'virat', 49: dict_values([['a', 'b', 'c'], [1, 2, 4]]), 50: dict_items([('captain', 'virat'), ('hitman', 'rohit'), ('Keeper_cool', 'Dhoni')]), 52: {'captain': 'virat', 'hitman': 'rohit', 'Keeper_cool': 'Dhoni'}, 53: 'ravi', 54: {'captain': 'virat', 'hitman': 'rohit', 'Keeper_cool': 'Dhoni'}, 55: {'coach': 'ravi'}, 56: 23, 61: '3', 62: '56', 70: 'inside hello function', 71: 60, 72: 60, 73: 60, 74: 40, 75: 60, 76: 40, 77: 10, 79: 50, 81: 50, 82: 60.5, 83: 1, 85: 1, 86: 1, 87: 5}, '_dh': ['C:\\\\Users\\\\Admin'], 'In': ['', 'print(\"Hello interns\")', 'a = 11\\na', 'type(a)', 'b =10.3\\nb', 'type(b)', 'name = \"cj\"\\nname', 'type(name)', 'a=b=c=d=\"taj hotel\"', 'a', 'b', 'c', 'd', 'a,b,c=\"hi\",\"hello\",\"how are you\"', 'a', 'c', 'z = \"hello interns\"\\nz', 'z[0:5]', 'z[6:]', 'z[3:11]', 'z =[78,56,89,45]\\nz.reverse()', 'z', 'dir(list)', 'z.append(23) ##adding an element\\nz', 'z.insert(4,\"CJ\")\\nz', 'z[-1]= \"intern\"\\nz', 'z[-2]= \"intern\"\\nz', 'z.count(\"intern\")', 'p = [10,70,80,56,34]\\np.sort()\\np', 'p.remove(70)\\np', 'q= p.copy()\\nq', 'var = (5,7,8,\"chaitali\")', 'type(var)', 'dir(tuple)', 'var[-3:-1]', 'var[1:-1]', 'z= list(var) #typecasting\\nz', 'var', 'y= tuple(z)\\ny', 'z', 'y = y + var #adding two tuples\\ny', 'z.count(5)', 'cricket={\"captain\":\"virat\", \"hitman\":\"rohit\",\"Keeper_cool\":\"Dhoni\"}', 'type(cricket)', 'cricket.keys()', 'dir(cricket)', 'cricket.values()', 'cricket[\"captain\"]', 'z = {\"alpha\":[\\'a\\',\\'b\\',\\'c\\'], \"number\":[1,2,4]}', 'z.values()', 'cricket.items()', 'new = {\"coach\":\"ravi\"}', 'cricket.update(new)\\ncricket', 'cricket.pop(\"coach\")', 'cricket', 'a = new.copy()\\na', 'value = int(input(\"Enter num:\")) # input takes string as input so ahve to typecasting\\nvalue', 'value = int(input(\"Enter number:\"))\\nif(value%2==0):\\n    print(value,\"is even\")\\nelse:\\n    print(value,\"is odd\")', 'value1 = int(input(\"Enter number1:\"))\\nvalue2 = int(input(\"Enter number2:\"))\\nif(value1>25 and value2<50):\\n    print(\"condition true\")\\nelif(value1>50 and value2<70):\\n    print(\"in else if\")\\nelse:\\n    print(\"false\")', 'value1 = int(input(\"Enter number1:\"))\\nvalue2 = int(input(\"Enter number2:\"))\\nif(value1>25 and value2<50):\\n    print(\"condition true\")\\nelif(value1>50 and value2<70):\\n    print(\"in else if\")\\nelse:\\n    print(\"false\")', 'a,b= input(\"Enter numbers:\").split()', 'a', 'b', 'value1 = int(input(\"Enter number1:\"))\\nwhile(value1<15):\\n    value1= value1+1\\n    print(value1)', 'value1 = int(input(\"Enter number1:\"))\\nwhile(value1<15):\\n    value1= value1+1\\n    print(value1)', 'value= \"chaitali\"\\nfor i in value:\\n    print(i)', 'z = [10,40,50]\\nfor i in z:\\n    print(i)', 'for i in range(10,20): #(start,n-1)\\n    print(i)', 'for i in range(10,20,2): #range(start,n-1,step size)\\n    print(i)', 'for i in range(30,10,-5): #negative decremainting\\n    print(i)', 'def hello():\\n    return \"inside hello function\"\\n\\nhello()', 'def add(a,b=50,c=50):\\n    a= a+b+c\\n    return a\\n\\nadd(10,20,30)', 'def add(a,b,c):\\n    a= a+b+c\\n    return a\\n\\nadd(10,20,30)', 'def add(a,b,c=10):\\n    a= a+b+c\\n    return a\\n\\nadd(10,20,30)', 'def add(a,b,c=10):\\n    a= a+b+c\\n    return a\\n\\nadd(10,20)', 'def add(a,b,c=10):\\n    a= a+b+c\\n    return a\\n\\nadd(10,20,30)', 'def add(a,b,c=10):\\n    a= a+b+c\\n    return a\\n\\nadd(10,20)', 'def add(a,b,c=10):\\n    a= a - b\\n    return a\\n\\nadd(b=10,a=20)', 'def add(a,b,c=10):\\n    a= a-b+c\\n    return a\\n\\nadd(40,b=10,a=20)', 'def add(a,b,c=10):\\n    a= a-b+c\\n    return a\\n\\nadd(c=40,b=10,a=20)', 'def add(a,b,c=10):\\n    a= a-b+c\\n    return a\\n\\nadd(40,b=10,a=20)', 'def add(a,b,c=10):\\n    a= a-b+c\\n    return a\\n\\nadd(c=40,b=10,a=20)', 'def add(a,b,c=10):\\n    a= a*b+c\\n    return a\\n\\nadd(c=40.5,b=10,a=2)', 'def f1():\\n    x=1\\n    print(locals())\\n    return x\\n\\nf1() #calling f1', 'x2=1\\ndef f2():\\n    print(locals)\\n    retuen x2\\n    \\nf2()', 'x2=1\\ndef f2():\\n    print(locals)\\n    return x2\\n    \\nf2()', 'x2=1\\ndef f2():\\n    print(locals())\\n    return x2\\n    \\nf2()', 'x2=1\\ndef f2():\\n    x2= 5\\n    print(locals())\\n    return x2\\n    \\nf2()', 'print(globals())'], 'Out': {2: 11, 3: <class 'int'>, 4: 10.3, 5: <class 'float'>, 6: 'cj', 7: <class 'str'>, 9: 'taj hotel', 10: 'taj hotel', 11: 'taj hotel', 12: 'taj hotel', 14: 'hi', 15: 'how are you', 16: 'hello interns', 17: 'hello', 18: 'interns', 19: 'lo inter', 21: [45, 89, 56, 78, 'intern', 'intern'], 22: ['__add__', '__class__', '__contains__', '__delattr__', '__delitem__', '__dir__', '__doc__', '__eq__', '__format__', '__ge__', '__getattribute__', '__getitem__', '__gt__', '__hash__', '__iadd__', '__imul__', '__init__', '__init_subclass__', '__iter__', '__le__', '__len__', '__lt__', '__mul__', '__ne__', '__new__', '__reduce__', '__reduce_ex__', '__repr__', '__reversed__', '__rmul__', '__setattr__', '__setitem__', '__sizeof__', '__str__', '__subclasshook__', 'append', 'clear', 'copy', 'count', 'extend', 'index', 'insert', 'pop', 'remove', 'reverse', 'sort'], 23: [45, 89, 56, 78, 'intern', 'intern'], 24: [45, 89, 56, 78, 'intern', 'intern'], 25: [45, 89, 56, 78, 'intern', 'intern'], 26: [45, 89, 56, 78, 'intern', 'intern'], 27: 2, 28: [10, 34, 56, 80], 29: [10, 34, 56, 80], 30: [10, 34, 56, 80], 32: <class 'tuple'>, 33: ['__add__', '__class__', '__contains__', '__delattr__', '__dir__', '__doc__', '__eq__', '__format__', '__ge__', '__getattribute__', '__getitem__', '__getnewargs__', '__gt__', '__hash__', '__init__', '__init_subclass__', '__iter__', '__le__', '__len__', '__lt__', '__mul__', '__ne__', '__new__', '__reduce__', '__reduce_ex__', '__repr__', '__rmul__', '__setattr__', '__sizeof__', '__str__', '__subclasshook__', 'count', 'index'], 34: (7, 8), 35: (7, 8), 36: [5, 7, 8, 'chaitali'], 37: (5, 7, 8, 'chaitali'), 38: (5, 7, 8, 'chaitali'), 39: [5, 7, 8, 'chaitali'], 40: (5, 7, 8, 'chaitali', 5, 7, 8, 'chaitali'), 41: 1, 43: <class 'dict'>, 44: dict_keys(['captain', 'hitman', 'Keeper_cool']), 45: ['__class__', '__contains__', '__delattr__', '__delitem__', '__dir__', '__doc__', '__eq__', '__format__', '__ge__', '__getattribute__', '__getitem__', '__gt__', '__hash__', '__init__', '__init_subclass__', '__iter__', '__le__', '__len__', '__lt__', '__ne__', '__new__', '__reduce__', '__reduce_ex__', '__repr__', '__setattr__', '__setitem__', '__sizeof__', '__str__', '__subclasshook__', 'clear', 'copy', 'fromkeys', 'get', 'items', 'keys', 'pop', 'popitem', 'setdefault', 'update', 'values'], 46: dict_values(['virat', 'rohit', 'Dhoni']), 47: 'virat', 49: dict_values([['a', 'b', 'c'], [1, 2, 4]]), 50: dict_items([('captain', 'virat'), ('hitman', 'rohit'), ('Keeper_cool', 'Dhoni')]), 52: {'captain': 'virat', 'hitman': 'rohit', 'Keeper_cool': 'Dhoni'}, 53: 'ravi', 54: {'captain': 'virat', 'hitman': 'rohit', 'Keeper_cool': 'Dhoni'}, 55: {'coach': 'ravi'}, 56: 23, 61: '3', 62: '56', 70: 'inside hello function', 71: 60, 72: 60, 73: 60, 74: 40, 75: 60, 76: 40, 77: 10, 79: 50, 81: 50, 82: 60.5, 83: 1, 85: 1, 86: 1, 87: 5}, 'get_ipython': <bound method InteractiveShell.get_ipython of <ipykernel.zmqshell.ZMQInteractiveShell object at 0x0000000004EAED48>>, 'exit': <IPython.core.autocall.ZMQExitAutocall object at 0x0000000004ED8C88>, 'quit': <IPython.core.autocall.ZMQExitAutocall object at 0x0000000004ED8C88>, '_': 5, '__': 1, '___': 1, '_i': 'x2=1\\ndef f2():\\n    x2= 5\\n    print(locals())\\n    return x2\\n    \\nf2()', '_ii': 'x2=1\\ndef f2():\\n    print(locals())\\n    return x2\\n    \\nf2()', '_iii': 'x2=1\\ndef f2():\\n    print(locals)\\n    return x2\\n    \\nf2()', '_i1': 'print(\"Hello interns\")', '_i2': 'a = 11\\na', 'a': '3', '_2': 11, '_i3': 'type(a)', '_3': <class 'int'>, '_i4': 'b =10.3\\nb', 'b': '56', '_4': 10.3, '_i5': 'type(b)', '_5': <class 'float'>, '_i6': 'name = \"cj\"\\nname', 'name': 'cj', '_6': 'cj', '_i7': 'type(name)', '_7': <class 'str'>, '_i8': 'a=b=c=d=\"taj hotel\"', 'c': 'how are you', 'd': 'taj hotel', '_i9': 'a', '_9': 'taj hotel', '_i10': 'b', '_10': 'taj hotel', '_i11': 'c', '_11': 'taj hotel', '_i12': 'd', '_12': 'taj hotel', '_i13': 'a,b,c=\"hi\",\"hello\",\"how are you\"', '_i14': 'a', '_14': 'hi', '_i15': 'c', '_15': 'how are you', '_i16': 'z = \"hello interns\"\\nz', 'z': [10, 40, 50], '_16': 'hello interns', '_i17': 'z[0:5]', '_17': 'hello', '_i18': 'z[6:]', '_18': 'interns', '_i19': 'z[3:11]', '_19': 'lo inter', '_i20': 'z =[78,56,89,45]\\nz.reverse()', '_i21': 'z', '_21': [45, 89, 56, 78, 'intern', 'intern'], '_i22': 'dir(list)', '_22': ['__add__', '__class__', '__contains__', '__delattr__', '__delitem__', '__dir__', '__doc__', '__eq__', '__format__', '__ge__', '__getattribute__', '__getitem__', '__gt__', '__hash__', '__iadd__', '__imul__', '__init__', '__init_subclass__', '__iter__', '__le__', '__len__', '__lt__', '__mul__', '__ne__', '__new__', '__reduce__', '__reduce_ex__', '__repr__', '__reversed__', '__rmul__', '__setattr__', '__setitem__', '__sizeof__', '__str__', '__subclasshook__', 'append', 'clear', 'copy', 'count', 'extend', 'index', 'insert', 'pop', 'remove', 'reverse', 'sort'], '_i23': 'z.append(23) ##adding an element\\nz', '_23': [45, 89, 56, 78, 'intern', 'intern'], '_i24': 'z.insert(4,\"CJ\")\\nz', '_24': [45, 89, 56, 78, 'intern', 'intern'], '_i25': 'z[-1]= \"intern\"\\nz', '_25': [45, 89, 56, 78, 'intern', 'intern'], '_i26': 'z[-2]= \"intern\"\\nz', '_26': [45, 89, 56, 78, 'intern', 'intern'], '_i27': 'z.count(\"intern\")', '_27': 2, '_i28': 'p = [10,70,80,56,34]\\np.sort()\\np', 'p': [10, 34, 56, 80], '_28': [10, 34, 56, 80], '_i29': 'p.remove(70)\\np', '_29': [10, 34, 56, 80], '_i30': 'q= p.copy()\\nq', 'q': [10, 34, 56, 80], '_30': [10, 34, 56, 80], '_i31': 'var = (5,7,8,\"chaitali\")', 'var': (5, 7, 8, 'chaitali'), '_i32': 'type(var)', '_32': <class 'tuple'>, '_i33': 'dir(tuple)', '_33': ['__add__', '__class__', '__contains__', '__delattr__', '__dir__', '__doc__', '__eq__', '__format__', '__ge__', '__getattribute__', '__getitem__', '__getnewargs__', '__gt__', '__hash__', '__init__', '__init_subclass__', '__iter__', '__le__', '__len__', '__lt__', '__mul__', '__ne__', '__new__', '__reduce__', '__reduce_ex__', '__repr__', '__rmul__', '__setattr__', '__sizeof__', '__str__', '__subclasshook__', 'count', 'index'], '_i34': 'var[-3:-1]', '_34': (7, 8), '_i35': 'var[1:-1]', '_35': (7, 8), '_i36': 'z= list(var) #typecasting\\nz', '_36': [5, 7, 8, 'chaitali'], '_i37': 'var', '_37': (5, 7, 8, 'chaitali'), '_i38': 'y= tuple(z)\\ny', 'y': (5, 7, 8, 'chaitali', 5, 7, 8, 'chaitali'), '_38': (5, 7, 8, 'chaitali'), '_i39': 'z', '_39': [5, 7, 8, 'chaitali'], '_i40': 'y = y + var #adding two tuples\\ny', '_40': (5, 7, 8, 'chaitali', 5, 7, 8, 'chaitali'), '_i41': 'z.count(5)', '_41': 1, '_i42': 'cricket={\"captain\":\"virat\", \"hitman\":\"rohit\",\"Keeper_cool\":\"Dhoni\"}', 'cricket': {'captain': 'virat', 'hitman': 'rohit', 'Keeper_cool': 'Dhoni'}, '_i43': 'type(cricket)', '_43': <class 'dict'>, '_i44': 'cricket.keys()', '_44': dict_keys(['captain', 'hitman', 'Keeper_cool']), '_i45': 'dir(cricket)', '_45': ['__class__', '__contains__', '__delattr__', '__delitem__', '__dir__', '__doc__', '__eq__', '__format__', '__ge__', '__getattribute__', '__getitem__', '__gt__', '__hash__', '__init__', '__init_subclass__', '__iter__', '__le__', '__len__', '__lt__', '__ne__', '__new__', '__reduce__', '__reduce_ex__', '__repr__', '__setattr__', '__setitem__', '__sizeof__', '__str__', '__subclasshook__', 'clear', 'copy', 'fromkeys', 'get', 'items', 'keys', 'pop', 'popitem', 'setdefault', 'update', 'values'], '_i46': 'cricket.values()', '_46': dict_values(['virat', 'rohit', 'Dhoni']), '_i47': 'cricket[\"captain\"]', '_47': 'virat', '_i48': 'z = {\"alpha\":[\\'a\\',\\'b\\',\\'c\\'], \"number\":[1,2,4]}', '_i49': 'z.values()', '_49': dict_values([['a', 'b', 'c'], [1, 2, 4]]), '_i50': 'cricket.items()', '_50': dict_items([('captain', 'virat'), ('hitman', 'rohit'), ('Keeper_cool', 'Dhoni')]), '_i51': 'new = {\"coach\":\"ravi\"}', 'new': {'coach': 'ravi'}, '_i52': 'cricket.update(new)\\ncricket', '_52': {'captain': 'virat', 'hitman': 'rohit', 'Keeper_cool': 'Dhoni'}, '_i53': 'cricket.pop(\"coach\")', '_53': 'ravi', '_i54': 'cricket', '_54': {'captain': 'virat', 'hitman': 'rohit', 'Keeper_cool': 'Dhoni'}, '_i55': 'a = new.copy()\\na', '_55': {'coach': 'ravi'}, '_i56': 'value = int(input(\"Enter num:\")) # input takes string as input so ahve to typecasting\\nvalue', 'value': 'chaitali', '_56': 23, '_i57': 'value = int(input(\"Enter number:\"))\\nif(value%2==0):\\n    print(value,\"is even\")\\nelse:\\n    print(value,\"is odd\")', '_i58': 'value1 = int(input(\"Enter number1:\"))\\nvalue2 = int(input(\"Enter number2:\"))\\nif(value1>25 and value2<50):\\n    print(\"condition true\")\\nelif(value1>50 and value2<70):\\n    print(\"in else if\")\\nelse:\\n    print(\"false\")', '_i59': 'value1 = int(input(\"Enter number1:\"))\\nvalue2 = int(input(\"Enter number2:\"))\\nif(value1>25 and value2<50):\\n    print(\"condition true\")\\nelif(value1>50 and value2<70):\\n    print(\"in else if\")\\nelse:\\n    print(\"false\")', 'value1': 15, 'value2': 56, '_i60': 'a,b= input(\"Enter numbers:\").split()', '_i61': 'a', '_61': '3', '_i62': 'b', '_62': '56', '_i63': 'value1 = int(input(\"Enter number1:\"))\\nwhile(value1<15):\\n    value1= value1+1\\n    print(value1)', '_i64': 'value1 = int(input(\"Enter number1:\"))\\nwhile(value1<15):\\n    value1= value1+1\\n    print(value1)', '_i65': 'value= \"chaitali\"\\nfor i in value:\\n    print(i)', 'i': 15, '_i66': 'z = [10,40,50]\\nfor i in z:\\n    print(i)', '_i67': 'for i in range(10,20): #(start,n-1)\\n    print(i)', '_i68': 'for i in range(10,20,2): #range(start,n-1,step size)\\n    print(i)', '_i69': 'for i in range(30,10,-5): #negative decremainting\\n    print(i)', '_i70': 'def hello():\\n    return \"inside hello function\"\\n\\nhello()', 'hello': <function hello at 0x0000000004F93E58>, '_70': 'inside hello function', '_i71': 'def add(a,b=50,c=50):\\n    a= a+b+c\\n    return a\\n\\nadd(10,20,30)', 'add': <function add at 0x0000000004F71678>, '_71': 60, '_i72': 'def add(a,b,c):\\n    a= a+b+c\\n    return a\\n\\nadd(10,20,30)', '_72': 60, '_i73': 'def add(a,b,c=10):\\n    a= a+b+c\\n    return a\\n\\nadd(10,20,30)', '_73': 60, '_i74': 'def add(a,b,c=10):\\n    a= a+b+c\\n    return a\\n\\nadd(10,20)', '_74': 40, '_i75': 'def add(a,b,c=10):\\n    a= a+b+c\\n    return a\\n\\nadd(10,20,30)', '_75': 60, '_i76': 'def add(a,b,c=10):\\n    a= a+b+c\\n    return a\\n\\nadd(10,20)', '_76': 40, '_i77': 'def add(a,b,c=10):\\n    a= a - b\\n    return a\\n\\nadd(b=10,a=20)', '_77': 10, '_i78': 'def add(a,b,c=10):\\n    a= a-b+c\\n    return a\\n\\nadd(40,b=10,a=20)', '_i79': 'def add(a,b,c=10):\\n    a= a-b+c\\n    return a\\n\\nadd(c=40,b=10,a=20)', '_79': 50, '_i80': 'def add(a,b,c=10):\\n    a= a-b+c\\n    return a\\n\\nadd(40,b=10,a=20)', '_i81': 'def add(a,b,c=10):\\n    a= a-b+c\\n    return a\\n\\nadd(c=40,b=10,a=20)', '_81': 50, '_i82': 'def add(a,b,c=10):\\n    a= a*b+c\\n    return a\\n\\nadd(c=40.5,b=10,a=2)', '_82': 60.5, '_i83': 'def f1():\\n    x=1\\n    print(locals())\\n    return x\\n\\nf1() #calling f1', 'f1': <function f1 at 0x0000000004F71438>, '_83': 1, '_i84': 'x2=1\\ndef f2():\\n    print(locals)\\n    retuen x2\\n    \\nf2()', '_i85': 'x2=1\\ndef f2():\\n    print(locals)\\n    return x2\\n    \\nf2()', 'x2': 1, 'f2': <function f2 at 0x0000000004F71948>, '_85': 1, '_i86': 'x2=1\\ndef f2():\\n    print(locals())\\n    return x2\\n    \\nf2()', '_86': 1, '_i87': 'x2=1\\ndef f2():\\n    x2= 5\\n    print(locals())\\n    return x2\\n    \\nf2()', '_87': 5, '_i88': 'print(globals())'}\n"
     ]
    }
   ],
   "source": [
    "print(globals()) #gives the lit of all global variables used in program"
   ]
  },
  {
   "cell_type": "code",
   "execution_count": 90,
   "metadata": {},
   "outputs": [
    {
     "name": "stdout",
     "output_type": "stream",
     "text": [
      "0\n",
      "{}\n",
      "1000\n",
      "1000\n",
      "{}\n",
      "500\n",
      "500\n"
     ]
    }
   ],
   "source": [
    "bal=0\n",
    "def deposit():\n",
    "    global bal\n",
    "    print(locals())\n",
    "    bal=bal+1000\n",
    "    return bal\n",
    "\n",
    "def withdraw():\n",
    "    global bal\n",
    "    print(locals())\n",
    "    bal=bal - 500\n",
    "    return bal\n",
    "print(bal)\n",
    "print(deposit())\n",
    "print(bal)\n",
    "print(withdraw())\n",
    "print(bal)\n",
    "    "
   ]
  },
  {
   "cell_type": "markdown",
   "metadata": {},
   "source": [
    "## Exception Handling"
   ]
  },
  {
   "cell_type": "code",
   "execution_count": 91,
   "metadata": {},
   "outputs": [
    {
     "ename": "ZeroDivisionError",
     "evalue": "division by zero",
     "output_type": "error",
     "traceback": [
      "\u001b[1;31m---------------------------------------------------------------------------\u001b[0m",
      "\u001b[1;31mZeroDivisionError\u001b[0m                         Traceback (most recent call last)",
      "\u001b[1;32m<ipython-input-91-fe01563e1bc6>\u001b[0m in \u001b[0;36m<module>\u001b[1;34m\u001b[0m\n\u001b[1;32m----> 1\u001b[1;33m \u001b[0mprint\u001b[0m\u001b[1;33m(\u001b[0m\u001b[1;36m10\u001b[0m\u001b[1;33m/\u001b[0m\u001b[1;36m0\u001b[0m\u001b[1;33m)\u001b[0m\u001b[1;33m\u001b[0m\u001b[1;33m\u001b[0m\u001b[0m\n\u001b[0m",
      "\u001b[1;31mZeroDivisionError\u001b[0m: division by zero"
     ]
    }
   ],
   "source": [
    "print(10/0)"
   ]
  },
  {
   "cell_type": "code",
   "execution_count": 92,
   "metadata": {},
   "outputs": [
    {
     "name": "stdout",
     "output_type": "stream",
     "text": [
      "Zero division error\n",
      "normal flow\n"
     ]
    }
   ],
   "source": [
    "try:\n",
    "    print(10/0)\n",
    "except ZeroDivisionError:\n",
    "    print(\"Zero division error\")\n",
    "print(\"normal flow\")"
   ]
  },
  {
   "cell_type": "code",
   "execution_count": 102,
   "metadata": {},
   "outputs": [
    {
     "name": "stdout",
     "output_type": "stream",
     "text": [
      "Error\n",
      "normal execution\n"
     ]
    }
   ],
   "source": [
    "try:\n",
    "    print(\"10\"/0)\n",
    "except (TypeError,ZeroDivisionError):\n",
    "    print(\"Error\")\n",
    "print(\"normal execution\")"
   ]
  },
  {
   "cell_type": "code",
   "execution_count": 97,
   "metadata": {},
   "outputs": [
    {
     "name": "stdout",
     "output_type": "stream",
     "text": [
      "division by zero\n"
     ]
    }
   ],
   "source": [
    "try:\n",
    "    print(10/0)\n",
    "except Exception as e:\n",
    "    print(e)"
   ]
  },
  {
   "cell_type": "code",
   "execution_count": 103,
   "metadata": {},
   "outputs": [
    {
     "name": "stdout",
     "output_type": "stream",
     "text": [
      "unsupported operand type(s) for /: 'str' and 'int'\n",
      "Inside finally\n"
     ]
    }
   ],
   "source": [
    "try:\n",
    "    print(\"10\"/0)\n",
    "except Exception as e:\n",
    "    print(e)\n",
    "finally:\n",
    "    print(\"Inside finally\")"
   ]
  },
  {
   "cell_type": "code",
   "execution_count": 105,
   "metadata": {},
   "outputs": [
    {
     "name": "stdout",
     "output_type": "stream",
     "text": [
      "10.0\n",
      "Inside finally\n"
     ]
    }
   ],
   "source": [
    "try:\n",
    "    print(100/10)\n",
    "except Exception as e:\n",
    "    print(e)\n",
    "finally:\n",
    "    print(\"Inside finally\")"
   ]
  },
  {
   "cell_type": "code",
   "execution_count": 106,
   "metadata": {},
   "outputs": [
    {
     "name": "stdout",
     "output_type": "stream",
     "text": [
      "division by zero\n",
      "Inside finally\n"
     ]
    }
   ],
   "source": [
    "try:\n",
    "    print(100/0)\n",
    "    print(10/10) #this won't get executed\n",
    "except Exception as e:\n",
    "    print(e)\n",
    "finally:\n",
    "    print(\"Inside finally\")"
   ]
  },
  {
   "cell_type": "code",
   "execution_count": 110,
   "metadata": {},
   "outputs": [
    {
     "name": "stdout",
     "output_type": "stream",
     "text": [
      "division by zero\n",
      "1.0\n",
      "Inside finally\n"
     ]
    }
   ],
   "source": [
    "try:\n",
    "    print(100/0)\n",
    "except Exception as e:\n",
    "    print(e)\n",
    "finally:\n",
    "    print(10/10)\n",
    "    print(\"Inside finally\")"
   ]
  },
  {
   "cell_type": "markdown",
   "metadata": {},
   "source": [
    "# Oops Concepts"
   ]
  },
  {
   "cell_type": "code",
   "execution_count": null,
   "metadata": {},
   "outputs": [],
   "source": []
  }
 ],
 "metadata": {
  "kernelspec": {
   "display_name": "Python 3",
   "language": "python",
   "name": "python3"
  },
  "language_info": {
   "codemirror_mode": {
    "name": "ipython",
    "version": 3
   },
   "file_extension": ".py",
   "mimetype": "text/x-python",
   "name": "python",
   "nbconvert_exporter": "python",
   "pygments_lexer": "ipython3",
   "version": "3.7.6"
  }
 },
 "nbformat": 4,
 "nbformat_minor": 4
}
