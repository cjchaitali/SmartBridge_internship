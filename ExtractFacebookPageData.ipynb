{
 "cells": [
  {
   "cell_type": "code",
   "execution_count": 3,
   "metadata": {},
   "outputs": [
    {
     "ename": "ModuleNotFoundError",
     "evalue": "No module named 'facebook'",
     "output_type": "error",
     "traceback": [
      "\u001b[1;31m---------------------------------------------------------------------------\u001b[0m",
      "\u001b[1;31mModuleNotFoundError\u001b[0m                       Traceback (most recent call last)",
      "\u001b[1;32m<ipython-input-3-96565b57b362>\u001b[0m in \u001b[0;36m<module>\u001b[1;34m\u001b[0m\n\u001b[0;32m      3\u001b[0m \u001b[1;32mimport\u001b[0m \u001b[0mjson\u001b[0m\u001b[1;33m\u001b[0m\u001b[1;33m\u001b[0m\u001b[0m\n\u001b[0;32m      4\u001b[0m \u001b[1;32mfrom\u001b[0m \u001b[0murllib\u001b[0m\u001b[1;33m.\u001b[0m\u001b[0mparse\u001b[0m \u001b[1;32mimport\u001b[0m \u001b[0murlencode\u001b[0m\u001b[1;33m\u001b[0m\u001b[1;33m\u001b[0m\u001b[0m\n\u001b[1;32m----> 5\u001b[1;33m \u001b[1;32mimport\u001b[0m \u001b[0mfacebook\u001b[0m\u001b[1;33m\u001b[0m\u001b[1;33m\u001b[0m\u001b[0m\n\u001b[0m\u001b[0;32m      6\u001b[0m \u001b[1;33m\u001b[0m\u001b[0m\n\u001b[0;32m      7\u001b[0m \u001b[1;31m#page_id=\"HerbFusionproducts\"\u001b[0m\u001b[1;33m\u001b[0m\u001b[1;33m\u001b[0m\u001b[1;33m\u001b[0m\u001b[0m\n",
      "\u001b[1;31mModuleNotFoundError\u001b[0m: No module named 'facebook'"
     ]
    }
   ],
   "source": [
    "import pandas as pd\n",
    "from urllib.request import urlopen\n",
    "import json\n",
    "from urllib.parse import urlencode\n",
    "import facebook\n",
    "\n",
    "#page_id=\"HerbFusionproducts\"\n",
    "page_id=\"Essure-problems-178631888835781\"\n",
    "\n",
    "#Replace this with your access token generated from Graph API Explorer\n",
    "token=\"ec9be825e537834de2ac9f9b9056d4ae\"\n",
    "#\"EAAFZAxm6FUScBAKNZBfnxiUXvLZAubvuV6JqVAPONFH1kkUkeOnZCKtEHELxvFbipTZBGlgpbBPIXOl0bXcor3Jy8G2k0aebCISTur7bPzjzRWHMDxvpUZBdDVYgRTlxv2B2WF6O26ATL9vxT95GbMNXmQZAtSgsupg2RAKRFGCwfwbCnRTwraKEBmvH8zBMxIlctWCh7EKvlssAxTO5b54IUhmhxNecRCtGPEgVToTfAZDZD\"\n",
    "\n",
    "#url=\"https://graph.facebook.com/v2.12/HerbFusionproducts/posts/?fields=id,created_time,message,shares.summary(true).limit(0),comments.summary(true).limit(0),likes.summary(true),reactions.type(LOVE).limit(0).summary(total_count).as(Love),reactions.type(WOW).limit(0).summary(total_count).as(Wow),reactions.type(HAHA).limit(0).summary(total_count).as(Haha),reactions.type(SAD).limit(0).summary(1).as(Sad),reactions.type(ANGRY).limit(0).summary(1).as(Angry)&access_token=EAAFZAxm6FUScBAKNZBfnxiUXvLZAubvuV6JqVAPONFH1kkUkeOnZCKtEHELxvFbipTZBGlgpbBPIXOl0bXcor3Jy8G2k0aebCISTur7bPzjzRWHMDxvpUZBdDVYgRTlxv2B2WF6O26ATL9vxT95GbMNXmQZAtSgsupg2RAKRFGCwfwbCnRTwraKEBmvH8zBMxIlctWCh7EKvlssAxTO5b54IUhmhxNecRCtGPEgVToTfAZDZD&limit=50\"\n",
    "url= \"https://www.facebook.com/Essure-problems-178631888835781/\"\n",
    "try:\n",
    "    facebook_connection = urlopen(url)\n",
    "    data = facebook_connection.read().decode('utf8')\n",
    "    json_object = json.loads(data)\n",
    "    posts=json_object[\"data\"]\n",
    "    \n",
    "    df=pd.DataFrame(posts)\n",
    "    \n",
    "    \n",
    "    df['Angry'] = df['Angry'].astype(str).str.replace('{\\'data\\':(.*?)count\\': ','')\n",
    "    df['Angry'] = df['Angry'].str.replace(',(.*?)}}','')\n",
    "    \n",
    "    df['Haha'] = df['Haha'].astype(str).str.replace('{\\'data\\':(.*?)count\\': ','')\n",
    "    df['Haha'] = df['Haha'].str.replace('}}','')\n",
    "    \n",
    "    df['Love'] = df['Love'].astype(str).str.replace('{\\'data\\':(.*?)count\\': ','')\n",
    "    df['Love'] = df['Love'].str.replace('}}','')\n",
    "    \n",
    "    df['Sad'] = df['Sad'].astype(str).str.replace('{\\'data\\':(.*?)count\\': ','')\n",
    "    df['Sad'] = df['Sad'].str.replace(',(.*?)}}','')\n",
    "    \n",
    "    df['Wow'] = df['Wow'].astype(str).str.replace('{\\'data\\':(.*?)count\\': ','')\n",
    "    df['Wow'] = df['Wow'].str.replace('}}','')\n",
    "    \n",
    "    df['comments'] = df['comments'].astype(str).str.replace('{\\'data\\':(.*?)count\\': ','')\n",
    "    df['comments'] = df['comments'].str.replace(',(.*?)}}','')\n",
    "    \n",
    "    df['likes'] = df['likes'].astype(str).str.replace('{\\'(.*?)count\\':','')\n",
    "    df['likes'] = df['likes'].str.replace(',(.*?)}}','')\n",
    "    \n",
    "    df['shares'] = df['shares'].astype(str).str.replace('{\\'count\\': ','')\n",
    "    df['shares'] = df['shares'].str.replace('}','')\n",
    "    \n",
    "    df['date'], df['time'] = df['created_time'].astype(str).str.split('T', 1).str\n",
    "    df['time'] = df['time'].str.replace('[+]0000','')\n",
    "    \n",
    "    df.to_csv(\"Facebook Posts.csv\")\n",
    "    \n",
    "    \n",
    "except Exception as ex:\n",
    "    print (ex)"
   ]
  },
  {
   "cell_type": "code",
   "execution_count": null,
   "metadata": {},
   "outputs": [],
   "source": []
  }
 ],
 "metadata": {
  "kernelspec": {
   "display_name": "Python 3",
   "language": "python",
   "name": "python3"
  },
  "language_info": {
   "codemirror_mode": {
    "name": "ipython",
    "version": 3
   },
   "file_extension": ".py",
   "mimetype": "text/x-python",
   "name": "python",
   "nbconvert_exporter": "python",
   "pygments_lexer": "ipython3",
   "version": "3.7.6"
  }
 },
 "nbformat": 4,
 "nbformat_minor": 2
}
