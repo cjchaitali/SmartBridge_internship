{
 "cells": [
  {
   "cell_type": "code",
   "execution_count": 1,
   "metadata": {},
   "outputs": [],
   "source": [
    "import numpy as np\n",
    "import pandas as pd\n",
    "import matplotlib.pyplot as plt"
   ]
  },
  {
   "cell_type": "code",
   "execution_count": 2,
   "metadata": {},
   "outputs": [
    {
     "data": {
      "text/html": [
       "<div>\n",
       "<style scoped>\n",
       "    .dataframe tbody tr th:only-of-type {\n",
       "        vertical-align: middle;\n",
       "    }\n",
       "\n",
       "    .dataframe tbody tr th {\n",
       "        vertical-align: top;\n",
       "    }\n",
       "\n",
       "    .dataframe thead th {\n",
       "        text-align: right;\n",
       "    }\n",
       "</style>\n",
       "<table border=\"1\" class=\"dataframe\">\n",
       "  <thead>\n",
       "    <tr style=\"text-align: right;\">\n",
       "      <th></th>\n",
       "      <th>CustomerID</th>\n",
       "      <th>Genre</th>\n",
       "      <th>Age</th>\n",
       "      <th>Annual Income (k$)</th>\n",
       "      <th>Spending Score (1-100)</th>\n",
       "    </tr>\n",
       "  </thead>\n",
       "  <tbody>\n",
       "    <tr>\n",
       "      <th>0</th>\n",
       "      <td>1</td>\n",
       "      <td>Male</td>\n",
       "      <td>19</td>\n",
       "      <td>15</td>\n",
       "      <td>39</td>\n",
       "    </tr>\n",
       "    <tr>\n",
       "      <th>1</th>\n",
       "      <td>2</td>\n",
       "      <td>Male</td>\n",
       "      <td>21</td>\n",
       "      <td>15</td>\n",
       "      <td>81</td>\n",
       "    </tr>\n",
       "    <tr>\n",
       "      <th>2</th>\n",
       "      <td>3</td>\n",
       "      <td>Female</td>\n",
       "      <td>20</td>\n",
       "      <td>16</td>\n",
       "      <td>6</td>\n",
       "    </tr>\n",
       "    <tr>\n",
       "      <th>3</th>\n",
       "      <td>4</td>\n",
       "      <td>Female</td>\n",
       "      <td>23</td>\n",
       "      <td>16</td>\n",
       "      <td>77</td>\n",
       "    </tr>\n",
       "    <tr>\n",
       "      <th>4</th>\n",
       "      <td>5</td>\n",
       "      <td>Female</td>\n",
       "      <td>31</td>\n",
       "      <td>17</td>\n",
       "      <td>40</td>\n",
       "    </tr>\n",
       "    <tr>\n",
       "      <th>...</th>\n",
       "      <td>...</td>\n",
       "      <td>...</td>\n",
       "      <td>...</td>\n",
       "      <td>...</td>\n",
       "      <td>...</td>\n",
       "    </tr>\n",
       "    <tr>\n",
       "      <th>195</th>\n",
       "      <td>196</td>\n",
       "      <td>Female</td>\n",
       "      <td>35</td>\n",
       "      <td>120</td>\n",
       "      <td>79</td>\n",
       "    </tr>\n",
       "    <tr>\n",
       "      <th>196</th>\n",
       "      <td>197</td>\n",
       "      <td>Female</td>\n",
       "      <td>45</td>\n",
       "      <td>126</td>\n",
       "      <td>28</td>\n",
       "    </tr>\n",
       "    <tr>\n",
       "      <th>197</th>\n",
       "      <td>198</td>\n",
       "      <td>Male</td>\n",
       "      <td>32</td>\n",
       "      <td>126</td>\n",
       "      <td>74</td>\n",
       "    </tr>\n",
       "    <tr>\n",
       "      <th>198</th>\n",
       "      <td>199</td>\n",
       "      <td>Male</td>\n",
       "      <td>32</td>\n",
       "      <td>137</td>\n",
       "      <td>18</td>\n",
       "    </tr>\n",
       "    <tr>\n",
       "      <th>199</th>\n",
       "      <td>200</td>\n",
       "      <td>Male</td>\n",
       "      <td>30</td>\n",
       "      <td>137</td>\n",
       "      <td>83</td>\n",
       "    </tr>\n",
       "  </tbody>\n",
       "</table>\n",
       "<p>200 rows × 5 columns</p>\n",
       "</div>"
      ],
      "text/plain": [
       "     CustomerID   Genre  Age  Annual Income (k$)  Spending Score (1-100)\n",
       "0             1    Male   19                  15                      39\n",
       "1             2    Male   21                  15                      81\n",
       "2             3  Female   20                  16                       6\n",
       "3             4  Female   23                  16                      77\n",
       "4             5  Female   31                  17                      40\n",
       "..          ...     ...  ...                 ...                     ...\n",
       "195         196  Female   35                 120                      79\n",
       "196         197  Female   45                 126                      28\n",
       "197         198    Male   32                 126                      74\n",
       "198         199    Male   32                 137                      18\n",
       "199         200    Male   30                 137                      83\n",
       "\n",
       "[200 rows x 5 columns]"
      ]
     },
     "execution_count": 2,
     "metadata": {},
     "output_type": "execute_result"
    }
   ],
   "source": [
    "dataset = pd.read_csv(r\"D:\\CoEP\\Smartbridge\\Class_work\\Mall_Customers.csv\")\n",
    "dataset #all are independent variables, no output to be predicted"
   ]
  },
  {
   "cell_type": "code",
   "execution_count": 3,
   "metadata": {},
   "outputs": [
    {
     "data": {
      "text/plain": [
       "array([[ 15,  39],\n",
       "       [ 15,  81],\n",
       "       [ 16,   6],\n",
       "       [ 16,  77],\n",
       "       [ 17,  40],\n",
       "       [ 17,  76],\n",
       "       [ 18,   6],\n",
       "       [ 18,  94],\n",
       "       [ 19,   3],\n",
       "       [ 19,  72],\n",
       "       [ 19,  14],\n",
       "       [ 19,  99],\n",
       "       [ 20,  15],\n",
       "       [ 20,  77],\n",
       "       [ 20,  13],\n",
       "       [ 20,  79],\n",
       "       [ 21,  35],\n",
       "       [ 21,  66],\n",
       "       [ 23,  29],\n",
       "       [ 23,  98],\n",
       "       [ 24,  35],\n",
       "       [ 24,  73],\n",
       "       [ 25,   5],\n",
       "       [ 25,  73],\n",
       "       [ 28,  14],\n",
       "       [ 28,  82],\n",
       "       [ 28,  32],\n",
       "       [ 28,  61],\n",
       "       [ 29,  31],\n",
       "       [ 29,  87],\n",
       "       [ 30,   4],\n",
       "       [ 30,  73],\n",
       "       [ 33,   4],\n",
       "       [ 33,  92],\n",
       "       [ 33,  14],\n",
       "       [ 33,  81],\n",
       "       [ 34,  17],\n",
       "       [ 34,  73],\n",
       "       [ 37,  26],\n",
       "       [ 37,  75],\n",
       "       [ 38,  35],\n",
       "       [ 38,  92],\n",
       "       [ 39,  36],\n",
       "       [ 39,  61],\n",
       "       [ 39,  28],\n",
       "       [ 39,  65],\n",
       "       [ 40,  55],\n",
       "       [ 40,  47],\n",
       "       [ 40,  42],\n",
       "       [ 40,  42],\n",
       "       [ 42,  52],\n",
       "       [ 42,  60],\n",
       "       [ 43,  54],\n",
       "       [ 43,  60],\n",
       "       [ 43,  45],\n",
       "       [ 43,  41],\n",
       "       [ 44,  50],\n",
       "       [ 44,  46],\n",
       "       [ 46,  51],\n",
       "       [ 46,  46],\n",
       "       [ 46,  56],\n",
       "       [ 46,  55],\n",
       "       [ 47,  52],\n",
       "       [ 47,  59],\n",
       "       [ 48,  51],\n",
       "       [ 48,  59],\n",
       "       [ 48,  50],\n",
       "       [ 48,  48],\n",
       "       [ 48,  59],\n",
       "       [ 48,  47],\n",
       "       [ 49,  55],\n",
       "       [ 49,  42],\n",
       "       [ 50,  49],\n",
       "       [ 50,  56],\n",
       "       [ 54,  47],\n",
       "       [ 54,  54],\n",
       "       [ 54,  53],\n",
       "       [ 54,  48],\n",
       "       [ 54,  52],\n",
       "       [ 54,  42],\n",
       "       [ 54,  51],\n",
       "       [ 54,  55],\n",
       "       [ 54,  41],\n",
       "       [ 54,  44],\n",
       "       [ 54,  57],\n",
       "       [ 54,  46],\n",
       "       [ 57,  58],\n",
       "       [ 57,  55],\n",
       "       [ 58,  60],\n",
       "       [ 58,  46],\n",
       "       [ 59,  55],\n",
       "       [ 59,  41],\n",
       "       [ 60,  49],\n",
       "       [ 60,  40],\n",
       "       [ 60,  42],\n",
       "       [ 60,  52],\n",
       "       [ 60,  47],\n",
       "       [ 60,  50],\n",
       "       [ 61,  42],\n",
       "       [ 61,  49],\n",
       "       [ 62,  41],\n",
       "       [ 62,  48],\n",
       "       [ 62,  59],\n",
       "       [ 62,  55],\n",
       "       [ 62,  56],\n",
       "       [ 62,  42],\n",
       "       [ 63,  50],\n",
       "       [ 63,  46],\n",
       "       [ 63,  43],\n",
       "       [ 63,  48],\n",
       "       [ 63,  52],\n",
       "       [ 63,  54],\n",
       "       [ 64,  42],\n",
       "       [ 64,  46],\n",
       "       [ 65,  48],\n",
       "       [ 65,  50],\n",
       "       [ 65,  43],\n",
       "       [ 65,  59],\n",
       "       [ 67,  43],\n",
       "       [ 67,  57],\n",
       "       [ 67,  56],\n",
       "       [ 67,  40],\n",
       "       [ 69,  58],\n",
       "       [ 69,  91],\n",
       "       [ 70,  29],\n",
       "       [ 70,  77],\n",
       "       [ 71,  35],\n",
       "       [ 71,  95],\n",
       "       [ 71,  11],\n",
       "       [ 71,  75],\n",
       "       [ 71,   9],\n",
       "       [ 71,  75],\n",
       "       [ 72,  34],\n",
       "       [ 72,  71],\n",
       "       [ 73,   5],\n",
       "       [ 73,  88],\n",
       "       [ 73,   7],\n",
       "       [ 73,  73],\n",
       "       [ 74,  10],\n",
       "       [ 74,  72],\n",
       "       [ 75,   5],\n",
       "       [ 75,  93],\n",
       "       [ 76,  40],\n",
       "       [ 76,  87],\n",
       "       [ 77,  12],\n",
       "       [ 77,  97],\n",
       "       [ 77,  36],\n",
       "       [ 77,  74],\n",
       "       [ 78,  22],\n",
       "       [ 78,  90],\n",
       "       [ 78,  17],\n",
       "       [ 78,  88],\n",
       "       [ 78,  20],\n",
       "       [ 78,  76],\n",
       "       [ 78,  16],\n",
       "       [ 78,  89],\n",
       "       [ 78,   1],\n",
       "       [ 78,  78],\n",
       "       [ 78,   1],\n",
       "       [ 78,  73],\n",
       "       [ 79,  35],\n",
       "       [ 79,  83],\n",
       "       [ 81,   5],\n",
       "       [ 81,  93],\n",
       "       [ 85,  26],\n",
       "       [ 85,  75],\n",
       "       [ 86,  20],\n",
       "       [ 86,  95],\n",
       "       [ 87,  27],\n",
       "       [ 87,  63],\n",
       "       [ 87,  13],\n",
       "       [ 87,  75],\n",
       "       [ 87,  10],\n",
       "       [ 87,  92],\n",
       "       [ 88,  13],\n",
       "       [ 88,  86],\n",
       "       [ 88,  15],\n",
       "       [ 88,  69],\n",
       "       [ 93,  14],\n",
       "       [ 93,  90],\n",
       "       [ 97,  32],\n",
       "       [ 97,  86],\n",
       "       [ 98,  15],\n",
       "       [ 98,  88],\n",
       "       [ 99,  39],\n",
       "       [ 99,  97],\n",
       "       [101,  24],\n",
       "       [101,  68],\n",
       "       [103,  17],\n",
       "       [103,  85],\n",
       "       [103,  23],\n",
       "       [103,  69],\n",
       "       [113,   8],\n",
       "       [113,  91],\n",
       "       [120,  16],\n",
       "       [120,  79],\n",
       "       [126,  28],\n",
       "       [126,  74],\n",
       "       [137,  18],\n",
       "       [137,  83]], dtype=int64)"
      ]
     },
     "execution_count": 3,
     "metadata": {},
     "output_type": "execute_result"
    }
   ],
   "source": [
    "x= dataset.iloc[:,3:].values\n",
    "x"
   ]
  },
  {
   "cell_type": "code",
   "execution_count": 4,
   "metadata": {},
   "outputs": [
    {
     "data": {
      "text/plain": [
       "<matplotlib.collections.PathCollection at 0x8eca688>"
      ]
     },
     "execution_count": 4,
     "metadata": {},
     "output_type": "execute_result"
    },
    {
     "data": {
      "image/png": "[encoded data removed]",
      "text/plain": [
       "<Figure size 432x288 with 1 Axes>"
      ]
     },
     "metadata": {
      "needs_background": "light"
     },
     "output_type": "display_data"
    }
   ],
   "source": [
    "plt.scatter(x[:,0], x[:,1])"
   ]
  },
  {
   "cell_type": "code",
   "execution_count": 5,
   "metadata": {},
   "outputs": [],
   "source": [
    "#using the elbow method to find the optimal number of clusters\n",
    "\n",
    "from sklearn.cluster import KMeans\n",
    "wcss = []"
   ]
  },
  {
   "cell_type": "code",
   "execution_count": 6,
   "metadata": {},
   "outputs": [
    {
     "data": {
      "image/png": "[encoded data removed]",
      "text/plain": [
       "<Figure size 432x288 with 1 Axes>"
      ]
     },
     "metadata": {
      "needs_background": "light"
     },
     "output_type": "display_data"
    }
   ],
   "source": [
    "for i in range(1,11):\n",
    "    kmeans = KMeans(n_clusters=i, init=\"k-means++\", random_state = 0) #k-means++ will be applied to n_clusters like for 1,2,3...10\n",
    "    kmeans.fit(x)\n",
    "    wcss.append(kmeans.inertia_) #to calculate wcss (summamsion of Pi * Ci), the method used is inertia_. For each n_clusters taken wcss is calculated\n",
    "    \n",
    "#As k value increases, wcss decreases.\n",
    "#k-means++ will help us to find out where to place those centroids & how many clusters we get.\n",
    "plt.plot(range(1,11),wcss)\n",
    "plt.title(\"The Elbow Method\")\n",
    "plt.xlabel(\"No of clusters (K)\")\n",
    "plt.ylabel(\"WCSS\")\n",
    "plt.show()"
   ]
  },
  {
   "cell_type": "raw",
   "metadata": {},
   "source": [
    "Here we get k value as 5."
   ]
  },
  {
   "cell_type": "code",
   "execution_count": 7,
   "metadata": {},
   "outputs": [
    {
     "data": {
      "text/plain": [
       "array([3, 1, 3, 1, 3, 1, 3, 1, 3, 1, 3, 1, 3, 1, 3, 1, 3, 1, 3, 1, 3, 1,\n",
       "       3, 1, 3, 1, 3, 1, 3, 1, 3, 1, 3, 1, 3, 1, 3, 1, 3, 1, 3, 1, 3, 0,\n",
       "       3, 1, 0, 0, 0, 0, 0, 0, 0, 0, 0, 0, 0, 0, 0, 0, 0, 0, 0, 0, 0, 0,\n",
       "       0, 0, 0, 0, 0, 0, 0, 0, 0, 0, 0, 0, 0, 0, 0, 0, 0, 0, 0, 0, 0, 0,\n",
       "       0, 0, 0, 0, 0, 0, 0, 0, 0, 0, 0, 0, 0, 0, 0, 0, 0, 0, 0, 0, 0, 0,\n",
       "       0, 0, 0, 0, 0, 0, 0, 0, 0, 0, 0, 0, 0, 2, 4, 2, 0, 2, 4, 2, 4, 2,\n",
       "       0, 2, 4, 2, 4, 2, 4, 2, 4, 2, 0, 2, 4, 2, 4, 2, 4, 2, 4, 2, 4, 2,\n",
       "       4, 2, 4, 2, 4, 2, 4, 2, 4, 2, 4, 2, 4, 2, 4, 2, 4, 2, 4, 2, 4, 2,\n",
       "       4, 2, 4, 2, 4, 2, 4, 2, 4, 2, 4, 2, 4, 2, 4, 2, 4, 2, 4, 2, 4, 2,\n",
       "       4, 2])"
      ]
     },
     "execution_count": 7,
     "metadata": {},
     "output_type": "execute_result"
    }
   ],
   "source": [
    "kmeans = KMeans(n_clusters=5, init=\"k-means++\", random_state=0)\n",
    "ymeans = kmeans.fit_predict(x)\n",
    "ymeans #we got 5 clusters from 0 to 4"
   ]
  },
  {
   "cell_type": "code",
   "execution_count": 8,
   "metadata": {},
   "outputs": [
    {
     "data": {
      "text/plain": [
       "array([[ 15,  39],\n",
       "       [ 15,  81],\n",
       "       [ 16,   6],\n",
       "       [ 16,  77],\n",
       "       [ 17,  40],\n",
       "       [ 17,  76],\n",
       "       [ 18,   6],\n",
       "       [ 18,  94],\n",
       "       [ 19,   3],\n",
       "       [ 19,  72],\n",
       "       [ 19,  14],\n",
       "       [ 19,  99],\n",
       "       [ 20,  15],\n",
       "       [ 20,  77],\n",
       "       [ 20,  13],\n",
       "       [ 20,  79],\n",
       "       [ 21,  35],\n",
       "       [ 21,  66],\n",
       "       [ 23,  29],\n",
       "       [ 23,  98],\n",
       "       [ 24,  35],\n",
       "       [ 24,  73],\n",
       "       [ 25,   5],\n",
       "       [ 25,  73],\n",
       "       [ 28,  14],\n",
       "       [ 28,  82],\n",
       "       [ 28,  32],\n",
       "       [ 28,  61],\n",
       "       [ 29,  31],\n",
       "       [ 29,  87],\n",
       "       [ 30,   4],\n",
       "       [ 30,  73],\n",
       "       [ 33,   4],\n",
       "       [ 33,  92],\n",
       "       [ 33,  14],\n",
       "       [ 33,  81],\n",
       "       [ 34,  17],\n",
       "       [ 34,  73],\n",
       "       [ 37,  26],\n",
       "       [ 37,  75],\n",
       "       [ 38,  35],\n",
       "       [ 38,  92],\n",
       "       [ 39,  36],\n",
       "       [ 39,  61],\n",
       "       [ 39,  28],\n",
       "       [ 39,  65],\n",
       "       [ 40,  55],\n",
       "       [ 40,  47],\n",
       "       [ 40,  42],\n",
       "       [ 40,  42],\n",
       "       [ 42,  52],\n",
       "       [ 42,  60],\n",
       "       [ 43,  54],\n",
       "       [ 43,  60],\n",
       "       [ 43,  45],\n",
       "       [ 43,  41],\n",
       "       [ 44,  50],\n",
       "       [ 44,  46],\n",
       "       [ 46,  51],\n",
       "       [ 46,  46],\n",
       "       [ 46,  56],\n",
       "       [ 46,  55],\n",
       "       [ 47,  52],\n",
       "       [ 47,  59],\n",
       "       [ 48,  51],\n",
       "       [ 48,  59],\n",
       "       [ 48,  50],\n",
       "       [ 48,  48],\n",
       "       [ 48,  59],\n",
       "       [ 48,  47],\n",
       "       [ 49,  55],\n",
       "       [ 49,  42],\n",
       "       [ 50,  49],\n",
       "       [ 50,  56],\n",
       "       [ 54,  47],\n",
       "       [ 54,  54],\n",
       "       [ 54,  53],\n",
       "       [ 54,  48],\n",
       "       [ 54,  52],\n",
       "       [ 54,  42],\n",
       "       [ 54,  51],\n",
       "       [ 54,  55],\n",
       "       [ 54,  41],\n",
       "       [ 54,  44],\n",
       "       [ 54,  57],\n",
       "       [ 54,  46],\n",
       "       [ 57,  58],\n",
       "       [ 57,  55],\n",
       "       [ 58,  60],\n",
       "       [ 58,  46],\n",
       "       [ 59,  55],\n",
       "       [ 59,  41],\n",
       "       [ 60,  49],\n",
       "       [ 60,  40],\n",
       "       [ 60,  42],\n",
       "       [ 60,  52],\n",
       "       [ 60,  47],\n",
       "       [ 60,  50],\n",
       "       [ 61,  42],\n",
       "       [ 61,  49],\n",
       "       [ 62,  41],\n",
       "       [ 62,  48],\n",
       "       [ 62,  59],\n",
       "       [ 62,  55],\n",
       "       [ 62,  56],\n",
       "       [ 62,  42],\n",
       "       [ 63,  50],\n",
       "       [ 63,  46],\n",
       "       [ 63,  43],\n",
       "       [ 63,  48],\n",
       "       [ 63,  52],\n",
       "       [ 63,  54],\n",
       "       [ 64,  42],\n",
       "       [ 64,  46],\n",
       "       [ 65,  48],\n",
       "       [ 65,  50],\n",
       "       [ 65,  43],\n",
       "       [ 65,  59],\n",
       "       [ 67,  43],\n",
       "       [ 67,  57],\n",
       "       [ 67,  56],\n",
       "       [ 67,  40],\n",
       "       [ 69,  58],\n",
       "       [ 69,  91],\n",
       "       [ 70,  29],\n",
       "       [ 70,  77],\n",
       "       [ 71,  35],\n",
       "       [ 71,  95],\n",
       "       [ 71,  11],\n",
       "       [ 71,  75],\n",
       "       [ 71,   9],\n",
       "       [ 71,  75],\n",
       "       [ 72,  34],\n",
       "       [ 72,  71],\n",
       "       [ 73,   5],\n",
       "       [ 73,  88],\n",
       "       [ 73,   7],\n",
       "       [ 73,  73],\n",
       "       [ 74,  10],\n",
       "       [ 74,  72],\n",
       "       [ 75,   5],\n",
       "       [ 75,  93],\n",
       "       [ 76,  40],\n",
       "       [ 76,  87],\n",
       "       [ 77,  12],\n",
       "       [ 77,  97],\n",
       "       [ 77,  36],\n",
       "       [ 77,  74],\n",
       "       [ 78,  22],\n",
       "       [ 78,  90],\n",
       "       [ 78,  17],\n",
       "       [ 78,  88],\n",
       "       [ 78,  20],\n",
       "       [ 78,  76],\n",
       "       [ 78,  16],\n",
       "       [ 78,  89],\n",
       "       [ 78,   1],\n",
       "       [ 78,  78],\n",
       "       [ 78,   1],\n",
       "       [ 78,  73],\n",
       "       [ 79,  35],\n",
       "       [ 79,  83],\n",
       "       [ 81,   5],\n",
       "       [ 81,  93],\n",
       "       [ 85,  26],\n",
       "       [ 85,  75],\n",
       "       [ 86,  20],\n",
       "       [ 86,  95],\n",
       "       [ 87,  27],\n",
       "       [ 87,  63],\n",
       "       [ 87,  13],\n",
       "       [ 87,  75],\n",
       "       [ 87,  10],\n",
       "       [ 87,  92],\n",
       "       [ 88,  13],\n",
       "       [ 88,  86],\n",
       "       [ 88,  15],\n",
       "       [ 88,  69],\n",
       "       [ 93,  14],\n",
       "       [ 93,  90],\n",
       "       [ 97,  32],\n",
       "       [ 97,  86],\n",
       "       [ 98,  15],\n",
       "       [ 98,  88],\n",
       "       [ 99,  39],\n",
       "       [ 99,  97],\n",
       "       [101,  24],\n",
       "       [101,  68],\n",
       "       [103,  17],\n",
       "       [103,  85],\n",
       "       [103,  23],\n",
       "       [103,  69],\n",
       "       [113,   8],\n",
       "       [113,  91],\n",
       "       [120,  16],\n",
       "       [120,  79],\n",
       "       [126,  28],\n",
       "       [126,  74],\n",
       "       [137,  18],\n",
       "       [137,  83]], dtype=int64)"
      ]
     },
     "execution_count": 8,
     "metadata": {},
     "output_type": "execute_result"
    }
   ],
   "source": [
    "x"
   ]
  },
  {
   "cell_type": "code",
   "execution_count": 11,
   "metadata": {},
   "outputs": [
    {
     "data": {
      "text/plain": [
       "array([False, False, False, False, False, False, False, False, False,\n",
       "       False, False, False, False, False, False, False, False, False,\n",
       "       False, False, False, False, False, False, False, False, False,\n",
       "       False, False, False, False, False, False, False, False, False,\n",
       "       False, False, False, False, False, False, False,  True, False,\n",
       "       False,  True,  True,  True,  True,  True,  True,  True,  True,\n",
       "        True,  True,  True,  True,  True,  True,  True,  True,  True,\n",
       "        True,  True,  True,  True,  True,  True,  True,  True,  True,\n",
       "        True,  True,  True,  True,  True,  True,  True,  True,  True,\n",
       "        True,  True,  True,  True,  True,  True,  True,  True,  True,\n",
       "        True,  True,  True,  True,  True,  True,  True,  True,  True,\n",
       "        True,  True,  True,  True,  True,  True,  True,  True,  True,\n",
       "        True,  True,  True,  True,  True,  True,  True,  True,  True,\n",
       "        True,  True,  True,  True,  True,  True, False, False, False,\n",
       "        True, False, False, False, False, False,  True, False, False,\n",
       "       False, False, False, False, False, False, False,  True, False,\n",
       "       False, False, False, False, False, False, False, False, False,\n",
       "       False, False, False, False, False, False, False, False, False,\n",
       "       False, False, False, False, False, False, False, False, False,\n",
       "       False, False, False, False, False, False, False, False, False,\n",
       "       False, False, False, False, False, False, False, False, False,\n",
       "       False, False, False, False, False, False, False, False, False,\n",
       "       False, False])"
      ]
     },
     "execution_count": 11,
     "metadata": {},
     "output_type": "execute_result"
    }
   ],
   "source": [
    "ymeans==0 #true are 0s"
   ]
  },
  {
   "cell_type": "code",
   "execution_count": 12,
   "metadata": {
    "scrolled": true
   },
   "outputs": [
    {
     "data": {
      "text/plain": [
       "array([61, 55, 47, 42, 42, 52, 60, 54, 60, 45, 41, 50, 46, 51, 46, 56, 55,\n",
       "       52, 59, 51, 59, 50, 48, 59, 47, 55, 42, 49, 56, 47, 54, 53, 48, 52,\n",
       "       42, 51, 55, 41, 44, 57, 46, 58, 55, 60, 46, 55, 41, 49, 40, 42, 52,\n",
       "       47, 50, 42, 49, 41, 48, 59, 55, 56, 42, 50, 46, 43, 48, 52, 54, 42,\n",
       "       46, 48, 50, 43, 59, 43, 57, 56, 40, 58, 35, 34, 40], dtype=int64)"
      ]
     },
     "execution_count": 12,
     "metadata": {},
     "output_type": "execute_result"
    }
   ],
   "source": [
    "x[ymeans==0,0] #zero category values from 0th column of x"
   ]
  },
  {
   "cell_type": "code",
   "execution_count": 13,
   "metadata": {
    "scrolled": true
   },
   "outputs": [
    {
     "data": {
      "text/plain": [
       "array([61, 55, 47, 42, 42, 52, 60, 54, 60, 45, 41, 50, 46, 51, 46, 56, 55,\n",
       "       52, 59, 51, 59, 50, 48, 59, 47, 55, 42, 49, 56, 47, 54, 53, 48, 52,\n",
       "       42, 51, 55, 41, 44, 57, 46, 58, 55, 60, 46, 55, 41, 49, 40, 42, 52,\n",
       "       47, 50, 42, 49, 41, 48, 59, 55, 56, 42, 50, 46, 43, 48, 52, 54, 42,\n",
       "       46, 48, 50, 43, 59, 43, 57, 56, 40, 58, 35, 34, 40], dtype=int64)"
      ]
     },
     "execution_count": 13,
     "metadata": {},
     "output_type": "execute_result"
    }
   ],
   "source": [
    "x[ymeans==0,1]"
   ]
  },
  {
   "cell_type": "code",
   "execution_count": 15,
   "metadata": {},
   "outputs": [
    {
     "data": {
      "text/plain": [
       "<matplotlib.collections.PathCollection at 0xdd87f48>"
      ]
     },
     "execution_count": 15,
     "metadata": {},
     "output_type": "execute_result"
    },
    {
     "data": {
      "image/png": "[encoded data removed]",
      "text/plain": [
       "<Figure size 432x288 with 1 Axes>"
      ]
     },
     "metadata": {
      "needs_background": "light"
     },
     "output_type": "display_data"
    }
   ],
   "source": [
    "plt.scatter(x[ymeans==1,0],x[ymeans==1,1])"
   ]
  },
  {
   "cell_type": "code",
   "execution_count": 18,
   "metadata": {
    "scrolled": true
   },
   "outputs": [
    {
     "data": {
      "text/plain": [
       "array([55.2962963 , 25.72727273, 86.53846154, 26.30434783, 88.2       ])"
      ]
     },
     "execution_count": 18,
     "metadata": {},
     "output_type": "execute_result"
    }
   ],
   "source": [
    "kmeans.cluster_centers_[:,0]"
   ]
  },
  {
   "cell_type": "code",
   "execution_count": 19,
   "metadata": {},
   "outputs": [
    {
     "data": {
      "text/plain": [
       "array([49.51851852, 79.36363636, 82.12820513, 20.91304348, 17.11428571])"
      ]
     },
     "execution_count": 19,
     "metadata": {},
     "output_type": "execute_result"
    }
   ],
   "source": [
    "kmeans.cluster_centers_[:,1]"
   ]
  },
  {
   "cell_type": "raw",
   "metadata": {},
   "source": [
    "Intersection points of these clusters are the centroids."
   ]
  },
  {
   "cell_type": "code",
   "execution_count": 17,
   "metadata": {},
   "outputs": [
    {
     "data": {
      "image/png": "[encoded data removed]",
      "text/plain": [
       "<Figure size 432x288 with 1 Axes>"
      ]
     },
     "metadata": {
      "needs_background": "light"
     },
     "output_type": "display_data"
    }
   ],
   "source": [
    "#             ymeans==0 category cluster, 0th col, 1st col which contaions 0 value\n",
    "plt.scatter(x[ymeans==0,0],x[ymeans==0,1], s=100, color = \"red\", label = \"cluster1\")\n",
    "plt.scatter(x[ymeans==1,0],x[ymeans==1,1], s=100, color = \"green\", label = \"cluster2\")\n",
    "plt.scatter(x[ymeans==2,0],x[ymeans==2,1], s=100, color = \"blue\", label = \"cluster3\")\n",
    "plt.scatter(x[ymeans==3,0],x[ymeans==3,1], s=100, color = \"cyan\", label = \"cluster4\")\n",
    "plt.scatter(x[ymeans==4,0],x[ymeans==4,1], s=100, color = \"yellow\", label = \"cluster5\")\n",
    "plt.scatter(kmeans.cluster_centers_[:,0], kmeans.cluster_centers_[:,1], s=300, color=\"magenta\", label=\"centroids\")\n",
    "plt.title(\"Cluster of customers\")\n",
    "plt.xlabel(\"Annual Income (k$)\")\n",
    "plt.ylabel(\"Spending score (1-100)\")\n",
    "plt.legend()\n",
    "plt.show()"
   ]
  },
  {
   "cell_type": "code",
   "execution_count": null,
   "metadata": {},
   "outputs": [],
   "source": []
  }
 ],
 "metadata": {
  "kernelspec": {
   "display_name": "Python 3",
   "language": "python",
   "name": "python3"
  },
  "language_info": {
   "codemirror_mode": {
    "name": "ipython",
    "version": 3
   },
   "file_extension": ".py",
   "mimetype": "text/x-python",
   "name": "python",
   "nbconvert_exporter": "python",
   "pygments_lexer": "ipython3",
   "version": "3.7.6"
  }
 },
 "nbformat": 4,
 "nbformat_minor": 4
}
